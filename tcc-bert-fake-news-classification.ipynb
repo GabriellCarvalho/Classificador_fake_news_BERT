{
 "cells": [
  {
   "cell_type": "code",
   "execution_count": 37,
   "metadata": {
    "execution": {
     "iopub.execute_input": "2025-02-11T17:07:42.895827Z",
     "iopub.status.busy": "2025-02-11T17:07:42.895175Z",
     "iopub.status.idle": "2025-02-11T17:07:42.900950Z",
     "shell.execute_reply": "2025-02-11T17:07:42.900090Z",
     "shell.execute_reply.started": "2025-02-11T17:07:42.895779Z"
    },
    "trusted": true
   },
   "outputs": [],
   "source": [
    "import pandas as pd\n",
    "import numpy as np\n",
    "import matplotlib.pyplot as plt\n",
    "import seaborn as sns\n",
    "import re\n",
    "import torch\n",
    "from torch.utils.data import Dataset\n",
    "from torch.utils.data import DataLoader\n",
    "from transformers import BertTokenizer, BertForSequenceClassification, Trainer, TrainingArguments\n",
    "from sklearn.model_selection import train_test_split\n",
    "from sklearn.metrics import confusion_matrix,classification_report, accuracy_score, precision_score, recall_score, f1_score"
   ]
  },
  {
   "cell_type": "markdown",
   "metadata": {},
   "source": [
    "## Pré-processamento"
   ]
  },
  {
   "cell_type": "code",
   "execution_count": 38,
   "metadata": {
    "execution": {
     "iopub.execute_input": "2025-02-11T17:07:42.912334Z",
     "iopub.status.busy": "2025-02-11T17:07:42.911787Z",
     "iopub.status.idle": "2025-02-11T17:07:44.747965Z",
     "shell.execute_reply": "2025-02-11T17:07:44.746848Z",
     "shell.execute_reply.started": "2025-02-11T17:07:42.912306Z"
    },
    "trusted": true
   },
   "outputs": [
    {
     "data": {
      "text/html": [
       "<div>\n",
       "<style scoped>\n",
       "    .dataframe tbody tr th:only-of-type {\n",
       "        vertical-align: middle;\n",
       "    }\n",
       "\n",
       "    .dataframe tbody tr th {\n",
       "        vertical-align: top;\n",
       "    }\n",
       "\n",
       "    .dataframe thead th {\n",
       "        text-align: right;\n",
       "    }\n",
       "</style>\n",
       "<table border=\"1\" class=\"dataframe\">\n",
       "  <thead>\n",
       "    <tr style=\"text-align: right;\">\n",
       "      <th></th>\n",
       "      <th>title</th>\n",
       "      <th>text</th>\n",
       "      <th>origin</th>\n",
       "      <th>url</th>\n",
       "      <th>label</th>\n",
       "      <th>publisher_name</th>\n",
       "      <th>publisher_site</th>\n",
       "      <th>date</th>\n",
       "    </tr>\n",
       "  </thead>\n",
       "  <tbody>\n",
       "    <tr>\n",
       "      <th>0</th>\n",
       "      <td>Jovem Pan: o que é falso e o que é verdadeiro ...</td>\n",
       "      <td>As propostas de manter zerados impostos federa...</td>\n",
       "      <td>Jair Bolsonaro</td>\n",
       "      <td>https://lupa.uol.com.br/jornalismo/2022/09/06/...</td>\n",
       "      <td>0</td>\n",
       "      <td>Lupa - UOL</td>\n",
       "      <td>lupa.uol.com.br</td>\n",
       "      <td>NaN</td>\n",
       "    </tr>\n",
       "    <tr>\n",
       "      <th>1</th>\n",
       "      <td>Jovem Pan: o que é falso e o que é verdadeiro ...</td>\n",
       "      <td>Estatais dão lucro de mais de R$ 100 bilhões e...</td>\n",
       "      <td>Jair Bolsonaro</td>\n",
       "      <td>https://lupa.uol.com.br/jornalismo/2022/09/06/...</td>\n",
       "      <td>0</td>\n",
       "      <td>Lupa - UOL</td>\n",
       "      <td>lupa.uol.com.br</td>\n",
       "      <td>NaN</td>\n",
       "    </tr>\n",
       "    <tr>\n",
       "      <th>2</th>\n",
       "      <td>De cargos secretos a segurança: veja erros e a...</td>\n",
       "      <td>A água foi privatizada. A Cedae não acabou. Es...</td>\n",
       "      <td>Marcelo Freixo (PSB)</td>\n",
       "      <td>https://lupa.uol.com.br/jornalismo/2022/09/01/...</td>\n",
       "      <td>0</td>\n",
       "      <td>Lupa - UOL</td>\n",
       "      <td>lupa.uol.com.br</td>\n",
       "      <td>NaN</td>\n",
       "    </tr>\n",
       "    <tr>\n",
       "      <th>3</th>\n",
       "      <td>De cargos secretos a segurança: veja erros e a...</td>\n",
       "      <td>São quase 3 milhões de pessoas passando fome [...</td>\n",
       "      <td>Marcelo Freixo (PSB)</td>\n",
       "      <td>https://lupa.uol.com.br/jornalismo/2022/09/01/...</td>\n",
       "      <td>0</td>\n",
       "      <td>Lupa - UOL</td>\n",
       "      <td>lupa.uol.com.br</td>\n",
       "      <td>NaN</td>\n",
       "    </tr>\n",
       "    <tr>\n",
       "      <th>4</th>\n",
       "      <td>De cargos secretos a segurança: veja erros e a...</td>\n",
       "      <td>[Cláudio Castro] tem pouco mais de 20% de ótim...</td>\n",
       "      <td>Marcelo Freixo (PSB)</td>\n",
       "      <td>https://lupa.uol.com.br/jornalismo/2022/09/01/...</td>\n",
       "      <td>0</td>\n",
       "      <td>Lupa - UOL</td>\n",
       "      <td>lupa.uol.com.br</td>\n",
       "      <td>NaN</td>\n",
       "    </tr>\n",
       "  </tbody>\n",
       "</table>\n",
       "</div>"
      ],
      "text/plain": [
       "                                               title  \\\n",
       "0  Jovem Pan: o que é falso e o que é verdadeiro ...   \n",
       "1  Jovem Pan: o que é falso e o que é verdadeiro ...   \n",
       "2  De cargos secretos a segurança: veja erros e a...   \n",
       "3  De cargos secretos a segurança: veja erros e a...   \n",
       "4  De cargos secretos a segurança: veja erros e a...   \n",
       "\n",
       "                                                text                origin  \\\n",
       "0  As propostas de manter zerados impostos federa...        Jair Bolsonaro   \n",
       "1  Estatais dão lucro de mais de R$ 100 bilhões e...        Jair Bolsonaro   \n",
       "2  A água foi privatizada. A Cedae não acabou. Es...  Marcelo Freixo (PSB)   \n",
       "3  São quase 3 milhões de pessoas passando fome [...  Marcelo Freixo (PSB)   \n",
       "4  [Cláudio Castro] tem pouco mais de 20% de ótim...  Marcelo Freixo (PSB)   \n",
       "\n",
       "                                                 url  label publisher_name  \\\n",
       "0  https://lupa.uol.com.br/jornalismo/2022/09/06/...      0     Lupa - UOL   \n",
       "1  https://lupa.uol.com.br/jornalismo/2022/09/06/...      0     Lupa - UOL   \n",
       "2  https://lupa.uol.com.br/jornalismo/2022/09/01/...      0     Lupa - UOL   \n",
       "3  https://lupa.uol.com.br/jornalismo/2022/09/01/...      0     Lupa - UOL   \n",
       "4  https://lupa.uol.com.br/jornalismo/2022/09/01/...      0     Lupa - UOL   \n",
       "\n",
       "    publisher_site date  \n",
       "0  lupa.uol.com.br  NaN  \n",
       "1  lupa.uol.com.br  NaN  \n",
       "2  lupa.uol.com.br  NaN  \n",
       "3  lupa.uol.com.br  NaN  \n",
       "4  lupa.uol.com.br  NaN  "
      ]
     },
     "execution_count": 38,
     "metadata": {},
     "output_type": "execute_result"
    }
   ],
   "source": [
    "true = pd.read_csv('noticias/true.csv')\n",
    "true_2 = pd.read_csv('noticias/true_news.csv')\n",
    "fake = pd.read_csv('noticias/fake.csv')\n",
    "news = pd.concat([true, fake, true_2],axis=0, ignore_index=True)\n",
    "news.head()"
   ]
  },
  {
   "cell_type": "code",
   "execution_count": 39,
   "metadata": {
    "execution": {
     "iopub.execute_input": "2025-02-11T17:07:44.749699Z",
     "iopub.status.busy": "2025-02-11T17:07:44.749464Z",
     "iopub.status.idle": "2025-02-11T17:07:44.760236Z",
     "shell.execute_reply": "2025-02-11T17:07:44.759317Z",
     "shell.execute_reply.started": "2025-02-11T17:07:44.749676Z"
    },
    "trusted": true
   },
   "outputs": [
    {
     "data": {
      "text/html": [
       "<div>\n",
       "<style scoped>\n",
       "    .dataframe tbody tr th:only-of-type {\n",
       "        vertical-align: middle;\n",
       "    }\n",
       "\n",
       "    .dataframe tbody tr th {\n",
       "        vertical-align: top;\n",
       "    }\n",
       "\n",
       "    .dataframe thead th {\n",
       "        text-align: right;\n",
       "    }\n",
       "</style>\n",
       "<table border=\"1\" class=\"dataframe\">\n",
       "  <thead>\n",
       "    <tr style=\"text-align: right;\">\n",
       "      <th></th>\n",
       "      <th>title</th>\n",
       "      <th>text</th>\n",
       "      <th>origin</th>\n",
       "      <th>url</th>\n",
       "      <th>label</th>\n",
       "      <th>publisher_name</th>\n",
       "      <th>publisher_site</th>\n",
       "      <th>date</th>\n",
       "    </tr>\n",
       "  </thead>\n",
       "  <tbody>\n",
       "    <tr>\n",
       "      <th>39821</th>\n",
       "      <td>NaN</td>\n",
       "      <td>A bandeira tarifária que será aplicada nas con...</td>\n",
       "      <td>NaN</td>\n",
       "      <td>NaN</td>\n",
       "      <td>0</td>\n",
       "      <td>NaN</td>\n",
       "      <td>NaN</td>\n",
       "      <td>NaN</td>\n",
       "    </tr>\n",
       "    <tr>\n",
       "      <th>39822</th>\n",
       "      <td>NaN</td>\n",
       "      <td>O presidente da Associação Brasileira da Indús...</td>\n",
       "      <td>NaN</td>\n",
       "      <td>NaN</td>\n",
       "      <td>0</td>\n",
       "      <td>NaN</td>\n",
       "      <td>NaN</td>\n",
       "      <td>NaN</td>\n",
       "    </tr>\n",
       "    <tr>\n",
       "      <th>39823</th>\n",
       "      <td>NaN</td>\n",
       "      <td>Policiais militares, com apoio da Polícia Civi...</td>\n",
       "      <td>NaN</td>\n",
       "      <td>NaN</td>\n",
       "      <td>0</td>\n",
       "      <td>NaN</td>\n",
       "      <td>NaN</td>\n",
       "      <td>NaN</td>\n",
       "    </tr>\n",
       "    <tr>\n",
       "      <th>39824</th>\n",
       "      <td>NaN</td>\n",
       "      <td>EDUARDO SODRÉ COLUNISTA DA FOLHA  O mercado au...</td>\n",
       "      <td>NaN</td>\n",
       "      <td>NaN</td>\n",
       "      <td>0</td>\n",
       "      <td>NaN</td>\n",
       "      <td>NaN</td>\n",
       "      <td>NaN</td>\n",
       "    </tr>\n",
       "    <tr>\n",
       "      <th>39825</th>\n",
       "      <td>NaN</td>\n",
       "      <td>A Comissão Interamericana de Direitos Humanos ...</td>\n",
       "      <td>NaN</td>\n",
       "      <td>NaN</td>\n",
       "      <td>0</td>\n",
       "      <td>NaN</td>\n",
       "      <td>NaN</td>\n",
       "      <td>NaN</td>\n",
       "    </tr>\n",
       "  </tbody>\n",
       "</table>\n",
       "</div>"
      ],
      "text/plain": [
       "      title                                               text origin  url  \\\n",
       "39821   NaN  A bandeira tarifária que será aplicada nas con...    NaN  NaN   \n",
       "39822   NaN  O presidente da Associação Brasileira da Indús...    NaN  NaN   \n",
       "39823   NaN  Policiais militares, com apoio da Polícia Civi...    NaN  NaN   \n",
       "39824   NaN  EDUARDO SODRÉ COLUNISTA DA FOLHA  O mercado au...    NaN  NaN   \n",
       "39825   NaN  A Comissão Interamericana de Direitos Humanos ...    NaN  NaN   \n",
       "\n",
       "       label publisher_name publisher_site date  \n",
       "39821      0            NaN            NaN  NaN  \n",
       "39822      0            NaN            NaN  NaN  \n",
       "39823      0            NaN            NaN  NaN  \n",
       "39824      0            NaN            NaN  NaN  \n",
       "39825      0            NaN            NaN  NaN  "
      ]
     },
     "execution_count": 39,
     "metadata": {},
     "output_type": "execute_result"
    }
   ],
   "source": [
    "news.tail()"
   ]
  },
  {
   "cell_type": "code",
   "execution_count": 40,
   "metadata": {
    "execution": {
     "iopub.execute_input": "2025-02-11T17:07:44.761749Z",
     "iopub.status.busy": "2025-02-11T17:07:44.761474Z",
     "iopub.status.idle": "2025-02-11T17:07:44.781252Z",
     "shell.execute_reply": "2025-02-11T17:07:44.780372Z",
     "shell.execute_reply.started": "2025-02-11T17:07:44.761722Z"
    },
    "trusted": true
   },
   "outputs": [
    {
     "data": {
      "text/html": [
       "<div>\n",
       "<style scoped>\n",
       "    .dataframe tbody tr th:only-of-type {\n",
       "        vertical-align: middle;\n",
       "    }\n",
       "\n",
       "    .dataframe tbody tr th {\n",
       "        vertical-align: top;\n",
       "    }\n",
       "\n",
       "    .dataframe thead th {\n",
       "        text-align: right;\n",
       "    }\n",
       "</style>\n",
       "<table border=\"1\" class=\"dataframe\">\n",
       "  <thead>\n",
       "    <tr style=\"text-align: right;\">\n",
       "      <th></th>\n",
       "      <th>text</th>\n",
       "      <th>label</th>\n",
       "    </tr>\n",
       "  </thead>\n",
       "  <tbody>\n",
       "    <tr>\n",
       "      <th>0</th>\n",
       "      <td>As propostas de manter zerados impostos federa...</td>\n",
       "      <td>0</td>\n",
       "    </tr>\n",
       "    <tr>\n",
       "      <th>1</th>\n",
       "      <td>Estatais dão lucro de mais de R$ 100 bilhões e...</td>\n",
       "      <td>0</td>\n",
       "    </tr>\n",
       "    <tr>\n",
       "      <th>2</th>\n",
       "      <td>A água foi privatizada. A Cedae não acabou. Es...</td>\n",
       "      <td>0</td>\n",
       "    </tr>\n",
       "    <tr>\n",
       "      <th>3</th>\n",
       "      <td>São quase 3 milhões de pessoas passando fome [...</td>\n",
       "      <td>0</td>\n",
       "    </tr>\n",
       "    <tr>\n",
       "      <th>4</th>\n",
       "      <td>[Cláudio Castro] tem pouco mais de 20% de ótim...</td>\n",
       "      <td>0</td>\n",
       "    </tr>\n",
       "    <tr>\n",
       "      <th>...</th>\n",
       "      <td>...</td>\n",
       "      <td>...</td>\n",
       "    </tr>\n",
       "    <tr>\n",
       "      <th>39821</th>\n",
       "      <td>A bandeira tarifária que será aplicada nas con...</td>\n",
       "      <td>0</td>\n",
       "    </tr>\n",
       "    <tr>\n",
       "      <th>39822</th>\n",
       "      <td>O presidente da Associação Brasileira da Indús...</td>\n",
       "      <td>0</td>\n",
       "    </tr>\n",
       "    <tr>\n",
       "      <th>39823</th>\n",
       "      <td>Policiais militares, com apoio da Polícia Civi...</td>\n",
       "      <td>0</td>\n",
       "    </tr>\n",
       "    <tr>\n",
       "      <th>39824</th>\n",
       "      <td>EDUARDO SODRÉ COLUNISTA DA FOLHA  O mercado au...</td>\n",
       "      <td>0</td>\n",
       "    </tr>\n",
       "    <tr>\n",
       "      <th>39825</th>\n",
       "      <td>A Comissão Interamericana de Direitos Humanos ...</td>\n",
       "      <td>0</td>\n",
       "    </tr>\n",
       "  </tbody>\n",
       "</table>\n",
       "<p>39826 rows × 2 columns</p>\n",
       "</div>"
      ],
      "text/plain": [
       "                                                    text  label\n",
       "0      As propostas de manter zerados impostos federa...      0\n",
       "1      Estatais dão lucro de mais de R$ 100 bilhões e...      0\n",
       "2      A água foi privatizada. A Cedae não acabou. Es...      0\n",
       "3      São quase 3 milhões de pessoas passando fome [...      0\n",
       "4      [Cláudio Castro] tem pouco mais de 20% de ótim...      0\n",
       "...                                                  ...    ...\n",
       "39821  A bandeira tarifária que será aplicada nas con...      0\n",
       "39822  O presidente da Associação Brasileira da Indús...      0\n",
       "39823  Policiais militares, com apoio da Polícia Civi...      0\n",
       "39824  EDUARDO SODRÉ COLUNISTA DA FOLHA  O mercado au...      0\n",
       "39825  A Comissão Interamericana de Direitos Humanos ...      0\n",
       "\n",
       "[39826 rows x 2 columns]"
      ]
     },
     "execution_count": 40,
     "metadata": {},
     "output_type": "execute_result"
    }
   ],
   "source": [
    "news.drop(['title','url','publisher_site', 'origin', 'publisher_name', 'date'], axis=1, inplace=True)\n",
    "news"
   ]
  },
  {
   "cell_type": "code",
   "execution_count": 41,
   "metadata": {
    "execution": {
     "iopub.execute_input": "2025-02-11T17:07:44.783311Z",
     "iopub.status.busy": "2025-02-11T17:07:44.783038Z",
     "iopub.status.idle": "2025-02-11T17:07:44.797655Z",
     "shell.execute_reply": "2025-02-11T17:07:44.796777Z",
     "shell.execute_reply.started": "2025-02-11T17:07:44.783282Z"
    },
    "trusted": true
   },
   "outputs": [
    {
     "data": {
      "text/plain": [
       "text     0\n",
       "label    0\n",
       "dtype: int64"
      ]
     },
     "execution_count": 41,
     "metadata": {},
     "output_type": "execute_result"
    }
   ],
   "source": [
    "news.isna().sum()"
   ]
  },
  {
   "cell_type": "code",
   "execution_count": 42,
   "metadata": {
    "execution": {
     "iopub.execute_input": "2025-02-11T17:07:44.798891Z",
     "iopub.status.busy": "2025-02-11T17:07:44.798616Z",
     "iopub.status.idle": "2025-02-11T17:07:44.823689Z",
     "shell.execute_reply": "2025-02-11T17:07:44.823024Z",
     "shell.execute_reply.started": "2025-02-11T17:07:44.798856Z"
    },
    "trusted": true
   },
   "outputs": [],
   "source": [
    "#true=0,fake=1 to true=1, fake=0\n",
    "news['label'] = news['label'].apply(lambda x: 1 if x == 0 else 0)"
   ]
  },
  {
   "cell_type": "code",
   "execution_count": 43,
   "metadata": {
    "execution": {
     "iopub.execute_input": "2025-02-11T17:07:44.824748Z",
     "iopub.status.busy": "2025-02-11T17:07:44.824534Z",
     "iopub.status.idle": "2025-02-11T17:07:44.831062Z",
     "shell.execute_reply": "2025-02-11T17:07:44.830234Z",
     "shell.execute_reply.started": "2025-02-11T17:07:44.824725Z"
    },
    "trusted": true
   },
   "outputs": [
    {
     "data": {
      "text/plain": [
       "array([1, 0])"
      ]
     },
     "execution_count": 43,
     "metadata": {},
     "output_type": "execute_result"
    }
   ],
   "source": [
    "news['label'].unique() "
   ]
  },
  {
   "cell_type": "code",
   "execution_count": 44,
   "metadata": {
    "execution": {
     "iopub.execute_input": "2025-02-11T17:07:44.832444Z",
     "iopub.status.busy": "2025-02-11T17:07:44.832139Z",
     "iopub.status.idle": "2025-02-11T17:07:45.063871Z",
     "shell.execute_reply": "2025-02-11T17:07:45.063044Z",
     "shell.execute_reply.started": "2025-02-11T17:07:44.832412Z"
    },
    "trusted": true
   },
   "outputs": [
    {
     "data": {
      "text/plain": [
       "<Axes: xlabel='label', ylabel='count'>"
      ]
     },
     "execution_count": 44,
     "metadata": {},
     "output_type": "execute_result"
    },
    {
     "data": {
      "image/png": "[encoded data removed]",
      "text/plain": [
       "<Figure size 640x480 with 1 Axes>"
      ]
     },
     "metadata": {},
     "output_type": "display_data"
    }
   ],
   "source": [
    "sns.countplot(x='label', data=news)"
   ]
  },
  {
   "cell_type": "code",
   "execution_count": 45,
   "metadata": {
    "execution": {
     "iopub.execute_input": "2025-02-11T17:07:45.065702Z",
     "iopub.status.busy": "2025-02-11T17:07:45.065306Z",
     "iopub.status.idle": "2025-02-11T17:07:45.083765Z",
     "shell.execute_reply": "2025-02-11T17:07:45.083053Z",
     "shell.execute_reply.started": "2025-02-11T17:07:45.065659Z"
    },
    "trusted": true
   },
   "outputs": [
    {
     "data": {
      "text/html": [
       "<div>\n",
       "<style scoped>\n",
       "    .dataframe tbody tr th:only-of-type {\n",
       "        vertical-align: middle;\n",
       "    }\n",
       "\n",
       "    .dataframe tbody tr th {\n",
       "        vertical-align: top;\n",
       "    }\n",
       "\n",
       "    .dataframe thead th {\n",
       "        text-align: right;\n",
       "    }\n",
       "</style>\n",
       "<table border=\"1\" class=\"dataframe\">\n",
       "  <thead>\n",
       "    <tr style=\"text-align: right;\">\n",
       "      <th></th>\n",
       "      <th>text</th>\n",
       "      <th>label</th>\n",
       "    </tr>\n",
       "  </thead>\n",
       "  <tbody>\n",
       "    <tr>\n",
       "      <th>0</th>\n",
       "      <td>3 milhões de votos aparecem de forma inexplicá...</td>\n",
       "      <td>0</td>\n",
       "    </tr>\n",
       "    <tr>\n",
       "      <th>1</th>\n",
       "      <td>O ‘problema’ com a hidroxicloroquina é que ela...</td>\n",
       "      <td>0</td>\n",
       "    </tr>\n",
       "    <tr>\n",
       "      <th>2</th>\n",
       "      <td>Music-Check. “Born in the USA” foi o primeiro ...</td>\n",
       "      <td>1</td>\n",
       "    </tr>\n",
       "    <tr>\n",
       "      <th>3</th>\n",
       "      <td>A bagagem de mão pode ser maior do que antes</td>\n",
       "      <td>1</td>\n",
       "    </tr>\n",
       "    <tr>\n",
       "      <th>4</th>\n",
       "      <td>Desfile militar com tanques em Brasília em 10 ...</td>\n",
       "      <td>0</td>\n",
       "    </tr>\n",
       "    <tr>\n",
       "      <th>...</th>\n",
       "      <td>...</td>\n",
       "      <td>...</td>\n",
       "    </tr>\n",
       "    <tr>\n",
       "      <th>39821</th>\n",
       "      <td>Presidente do Comitê Organizador da Copa do Mu...</td>\n",
       "      <td>0</td>\n",
       "    </tr>\n",
       "    <tr>\n",
       "      <th>39822</th>\n",
       "      <td>Mahershala Ali, vencedor do Oscar de melhor at...</td>\n",
       "      <td>1</td>\n",
       "    </tr>\n",
       "    <tr>\n",
       "      <th>39823</th>\n",
       "      <td>Eu estou achando uma dificuldade. A gente não ...</td>\n",
       "      <td>0</td>\n",
       "    </tr>\n",
       "    <tr>\n",
       "      <th>39824</th>\n",
       "      <td>Menina de 10 anos em Lençois Paulista teve par...</td>\n",
       "      <td>0</td>\n",
       "    </tr>\n",
       "    <tr>\n",
       "      <th>39825</th>\n",
       "      <td>Com estreia no ataque e um time praticamente r...</td>\n",
       "      <td>1</td>\n",
       "    </tr>\n",
       "  </tbody>\n",
       "</table>\n",
       "<p>39826 rows × 2 columns</p>\n",
       "</div>"
      ],
      "text/plain": [
       "                                                    text  label\n",
       "0      3 milhões de votos aparecem de forma inexplicá...      0\n",
       "1      O ‘problema’ com a hidroxicloroquina é que ela...      0\n",
       "2      Music-Check. “Born in the USA” foi o primeiro ...      1\n",
       "3           A bagagem de mão pode ser maior do que antes      1\n",
       "4      Desfile militar com tanques em Brasília em 10 ...      0\n",
       "...                                                  ...    ...\n",
       "39821  Presidente do Comitê Organizador da Copa do Mu...      0\n",
       "39822  Mahershala Ali, vencedor do Oscar de melhor at...      1\n",
       "39823  Eu estou achando uma dificuldade. A gente não ...      0\n",
       "39824  Menina de 10 anos em Lençois Paulista teve par...      0\n",
       "39825  Com estreia no ataque e um time praticamente r...      1\n",
       "\n",
       "[39826 rows x 2 columns]"
      ]
     },
     "execution_count": 45,
     "metadata": {},
     "output_type": "execute_result"
    }
   ],
   "source": [
    "news = news.sample(frac=1, random_state=1).reset_index(drop=True)\n",
    "news"
   ]
  },
  {
   "cell_type": "code",
   "execution_count": 46,
   "metadata": {
    "execution": {
     "iopub.execute_input": "2025-02-11T17:07:45.085118Z",
     "iopub.status.busy": "2025-02-11T17:07:45.084796Z",
     "iopub.status.idle": "2025-02-11T17:07:45.090899Z",
     "shell.execute_reply": "2025-02-11T17:07:45.089787Z",
     "shell.execute_reply.started": "2025-02-11T17:07:45.085089Z"
    },
    "trusted": true
   },
   "outputs": [],
   "source": [
    "def text_cleaning(text):\n",
    "  text = text.lower()\n",
    "\n",
    "  text = re.sub(r'[^\\w\\s]', '', text) #Remover pontuação\n",
    "\n",
    "  text = re.sub(r'[\\d]', '', text) #Remover digitos\n",
    "\n",
    "  text = re.sub(r'https?://S+|www\\.\\S+', '', text) #Remover URLs\n",
    "\n",
    "  return text"
   ]
  },
  {
   "cell_type": "code",
   "execution_count": 47,
   "metadata": {
    "execution": {
     "iopub.execute_input": "2025-02-11T17:07:45.094610Z",
     "iopub.status.busy": "2025-02-11T17:07:45.094266Z",
     "iopub.status.idle": "2025-02-11T17:07:47.934656Z",
     "shell.execute_reply": "2025-02-11T17:07:47.933607Z",
     "shell.execute_reply.started": "2025-02-11T17:07:45.094562Z"
    },
    "trusted": true
   },
   "outputs": [
    {
     "data": {
      "text/html": [
       "<div>\n",
       "<style scoped>\n",
       "    .dataframe tbody tr th:only-of-type {\n",
       "        vertical-align: middle;\n",
       "    }\n",
       "\n",
       "    .dataframe tbody tr th {\n",
       "        vertical-align: top;\n",
       "    }\n",
       "\n",
       "    .dataframe thead th {\n",
       "        text-align: right;\n",
       "    }\n",
       "</style>\n",
       "<table border=\"1\" class=\"dataframe\">\n",
       "  <thead>\n",
       "    <tr style=\"text-align: right;\">\n",
       "      <th></th>\n",
       "      <th>text</th>\n",
       "      <th>label</th>\n",
       "    </tr>\n",
       "  </thead>\n",
       "  <tbody>\n",
       "    <tr>\n",
       "      <th>0</th>\n",
       "      <td>milhões de votos aparecem de forma inexplicáv...</td>\n",
       "      <td>0</td>\n",
       "    </tr>\n",
       "    <tr>\n",
       "      <th>1</th>\n",
       "      <td>o problema com a hidroxicloroquina é que ela t...</td>\n",
       "      <td>0</td>\n",
       "    </tr>\n",
       "    <tr>\n",
       "      <th>2</th>\n",
       "      <td>musiccheck born in the usa foi o primeiro cd f...</td>\n",
       "      <td>1</td>\n",
       "    </tr>\n",
       "    <tr>\n",
       "      <th>3</th>\n",
       "      <td>a bagagem de mão pode ser maior do que antes</td>\n",
       "      <td>1</td>\n",
       "    </tr>\n",
       "    <tr>\n",
       "      <th>4</th>\n",
       "      <td>desfile militar com tanques em brasília em  de...</td>\n",
       "      <td>0</td>\n",
       "    </tr>\n",
       "    <tr>\n",
       "      <th>...</th>\n",
       "      <td>...</td>\n",
       "      <td>...</td>\n",
       "    </tr>\n",
       "    <tr>\n",
       "      <th>39821</th>\n",
       "      <td>presidente do comitê organizador da copa do mu...</td>\n",
       "      <td>0</td>\n",
       "    </tr>\n",
       "    <tr>\n",
       "      <th>39822</th>\n",
       "      <td>mahershala ali vencedor do oscar de melhor ato...</td>\n",
       "      <td>1</td>\n",
       "    </tr>\n",
       "    <tr>\n",
       "      <th>39823</th>\n",
       "      <td>eu estou achando uma dificuldade a gente não t...</td>\n",
       "      <td>0</td>\n",
       "    </tr>\n",
       "    <tr>\n",
       "      <th>39824</th>\n",
       "      <td>menina de  anos em lençois paulista teve parad...</td>\n",
       "      <td>0</td>\n",
       "    </tr>\n",
       "    <tr>\n",
       "      <th>39825</th>\n",
       "      <td>com estreia no ataque e um time praticamente r...</td>\n",
       "      <td>1</td>\n",
       "    </tr>\n",
       "  </tbody>\n",
       "</table>\n",
       "<p>39826 rows × 2 columns</p>\n",
       "</div>"
      ],
      "text/plain": [
       "                                                    text  label\n",
       "0       milhões de votos aparecem de forma inexplicáv...      0\n",
       "1      o problema com a hidroxicloroquina é que ela t...      0\n",
       "2      musiccheck born in the usa foi o primeiro cd f...      1\n",
       "3           a bagagem de mão pode ser maior do que antes      1\n",
       "4      desfile militar com tanques em brasília em  de...      0\n",
       "...                                                  ...    ...\n",
       "39821  presidente do comitê organizador da copa do mu...      0\n",
       "39822  mahershala ali vencedor do oscar de melhor ato...      1\n",
       "39823  eu estou achando uma dificuldade a gente não t...      0\n",
       "39824  menina de  anos em lençois paulista teve parad...      0\n",
       "39825  com estreia no ataque e um time praticamente r...      1\n",
       "\n",
       "[39826 rows x 2 columns]"
      ]
     },
     "execution_count": 47,
     "metadata": {},
     "output_type": "execute_result"
    }
   ],
   "source": [
    "news['text'] = news['text'].apply(text_cleaning)\n",
    "news"
   ]
  },
  {
   "cell_type": "markdown",
   "metadata": {},
   "source": [
    "## Modelagem e treinamento"
   ]
  },
  {
   "cell_type": "code",
   "execution_count": 48,
   "metadata": {
    "execution": {
     "iopub.execute_input": "2025-02-11T17:07:47.936481Z",
     "iopub.status.busy": "2025-02-11T17:07:47.936065Z",
     "iopub.status.idle": "2025-02-11T17:07:48.741506Z",
     "shell.execute_reply": "2025-02-11T17:07:48.740707Z",
     "shell.execute_reply.started": "2025-02-11T17:07:47.936433Z"
    },
    "trusted": true
   },
   "outputs": [
    {
     "name": "stderr",
     "output_type": "stream",
     "text": [
      "Some weights of BertForSequenceClassification were not initialized from the model checkpoint at neuralmind/bert-base-portuguese-cased and are newly initialized: ['classifier.bias', 'classifier.weight']\n",
      "You should probably TRAIN this model on a down-stream task to be able to use it for predictions and inference.\n"
     ]
    }
   ],
   "source": [
    "tokenizer = BertTokenizer.from_pretrained('neuralmind/bert-base-portuguese-cased', do_lower_case=False, clean_up_tokenization_spaces=True)\n",
    "model = BertForSequenceClassification.from_pretrained('neuralmind/bert-base-portuguese-cased', num_labels=2)\n",
    "\n",
    "device = torch.device('cuda' if torch.cuda.is_available() else 'cpu')\n",
    "model.to(device);"
   ]
  },
  {
   "cell_type": "code",
   "execution_count": 49,
   "metadata": {
    "execution": {
     "iopub.execute_input": "2025-02-11T17:07:48.742742Z",
     "iopub.status.busy": "2025-02-11T17:07:48.742512Z",
     "iopub.status.idle": "2025-02-11T17:07:48.750044Z",
     "shell.execute_reply": "2025-02-11T17:07:48.749229Z",
     "shell.execute_reply.started": "2025-02-11T17:07:48.742719Z"
    },
    "trusted": true
   },
   "outputs": [],
   "source": [
    "noticias = news['text'].tolist() \n",
    "rotulo = news['label'].tolist()"
   ]
  },
  {
   "cell_type": "code",
   "execution_count": 50,
   "metadata": {
    "execution": {
     "iopub.execute_input": "2025-02-11T17:07:48.751087Z",
     "iopub.status.busy": "2025-02-11T17:07:48.750834Z",
     "iopub.status.idle": "2025-02-11T17:10:11.456430Z",
     "shell.execute_reply": "2025-02-11T17:10:11.455481Z",
     "shell.execute_reply.started": "2025-02-11T17:07:48.751063Z"
    },
    "trusted": true
   },
   "outputs": [
    {
     "name": "stdout",
     "output_type": "stream",
     "text": [
      "39826 39826\n"
     ]
    }
   ],
   "source": [
    "encodings = tokenizer(noticias, truncation=True, padding=True, max_length=128, return_tensors='pt')\n",
    "labels = torch.tensor(rotulo).clone().detach()\n",
    "print(len(encodings['input_ids']), len(labels))"
   ]
  },
  {
   "cell_type": "code",
   "execution_count": 51,
   "metadata": {
    "execution": {
     "iopub.execute_input": "2025-02-11T17:10:11.457971Z",
     "iopub.status.busy": "2025-02-11T17:10:11.457604Z",
     "iopub.status.idle": "2025-02-11T17:10:11.486951Z",
     "shell.execute_reply": "2025-02-11T17:10:11.486097Z",
     "shell.execute_reply.started": "2025-02-11T17:10:11.457937Z"
    },
    "scrolled": true,
    "trusted": true
   },
   "outputs": [
    {
     "name": "stdout",
     "output_type": "stream",
     "text": [
      "torch.Size([31860, 128]) torch.Size([31860]) torch.Size([7966, 128]) torch.Size([7966])\n"
     ]
    }
   ],
   "source": [
    "x_train, x_test, y_train, y_test, mask_train, mask_test = train_test_split(encodings['input_ids'], labels, encodings['attention_mask'], test_size=0.2, random_state=1)\n",
    "print(x_train.shape, y_train.shape, x_test.shape, y_test.shape)"
   ]
  },
  {
   "cell_type": "code",
   "execution_count": 52,
   "metadata": {
    "execution": {
     "iopub.execute_input": "2025-02-11T17:10:11.488492Z",
     "iopub.status.busy": "2025-02-11T17:10:11.488179Z",
     "iopub.status.idle": "2025-02-11T17:10:11.495298Z",
     "shell.execute_reply": "2025-02-11T17:10:11.494235Z",
     "shell.execute_reply.started": "2025-02-11T17:10:11.488459Z"
    },
    "trusted": true
   },
   "outputs": [],
   "source": [
    "class createDataset(Dataset):\n",
    "    def __init__(self, encodings, labels):\n",
    "        self.encodings = encodings\n",
    "        self.labels = labels\n",
    "\n",
    "    def __len__(self):\n",
    "        return len(self.labels)\n",
    "        \n",
    "    def __getitem__(self, index):\n",
    "        item = {key: self.encodings[key][index] for key in self.encodings}\n",
    "        item['labels'] = self.labels[index].clone().detach()\n",
    "        return item"
   ]
  },
  {
   "cell_type": "code",
   "execution_count": 53,
   "metadata": {
    "execution": {
     "iopub.execute_input": "2025-02-11T17:10:11.496781Z",
     "iopub.status.busy": "2025-02-11T17:10:11.496438Z",
     "iopub.status.idle": "2025-02-11T17:10:11.511098Z",
     "shell.execute_reply": "2025-02-11T17:10:11.510191Z",
     "shell.execute_reply.started": "2025-02-11T17:10:11.496744Z"
    },
    "trusted": true
   },
   "outputs": [],
   "source": [
    "def compute_metrics(p):\n",
    "    preds = np.argmax(p.predictions, axis=1)\n",
    "    return {\n",
    "        'accuracy': accuracy_score(p.label_ids, preds),\n",
    "        'precision': precision_score(p.label_ids, preds),\n",
    "        'recall': recall_score(p.label_ids, preds),\n",
    "        'f1-score': f1_score(p.label_ids, preds)\n",
    "    }"
   ]
  },
  {
   "cell_type": "code",
   "execution_count": 54,
   "metadata": {
    "execution": {
     "iopub.execute_input": "2025-02-11T17:10:11.512487Z",
     "iopub.status.busy": "2025-02-11T17:10:11.512165Z",
     "iopub.status.idle": "2025-02-11T17:10:11.525957Z",
     "shell.execute_reply": "2025-02-11T17:10:11.525215Z",
     "shell.execute_reply.started": "2025-02-11T17:10:11.512455Z"
    },
    "trusted": true
   },
   "outputs": [],
   "source": [
    "train_encodings = {'input_ids': x_train, 'attention_mask': mask_train}\n",
    "test_encodings = {'input_ids': x_test, 'attention_mask': mask_test}\n",
    "\n",
    "train_dataset = createDataset(train_encodings, y_train)\n",
    "test_dataset = createDataset(test_encodings, y_test)"
   ]
  },
  {
   "cell_type": "code",
   "execution_count": 55,
   "metadata": {
    "execution": {
     "iopub.execute_input": "2025-02-11T17:10:11.527446Z",
     "iopub.status.busy": "2025-02-11T17:10:11.527137Z",
     "iopub.status.idle": "2025-02-11T17:10:11.542342Z",
     "shell.execute_reply": "2025-02-11T17:10:11.541352Z",
     "shell.execute_reply.started": "2025-02-11T17:10:11.527419Z"
    },
    "trusted": true
   },
   "outputs": [
    {
     "data": {
      "text/plain": [
       "'\\n '"
      ]
     },
     "execution_count": 55,
     "metadata": {},
     "output_type": "execute_result"
    }
   ],
   "source": [
    "'''\n",
    "weight_decay=0.01,                \n",
    "logging_dir='./logs',                              \n",
    "save_steps=500,                   \n",
    "save_total_limit=2,               \n",
    "metric_for_best_model=\"precision\",\n",
    "seed=1, '''"
   ]
  },
  {
   "cell_type": "code",
   "execution_count": 58,
   "metadata": {
    "execution": {
     "iopub.execute_input": "2025-02-11T17:17:55.390841Z",
     "iopub.status.busy": "2025-02-11T17:17:55.390436Z",
     "iopub.status.idle": "2025-02-11T17:17:55.439364Z",
     "shell.execute_reply": "2025-02-11T17:17:55.438337Z",
     "shell.execute_reply.started": "2025-02-11T17:17:55.390785Z"
    },
    "trusted": true
   },
   "outputs": [
    {
     "name": "stderr",
     "output_type": "stream",
     "text": [
      "/opt/conda/lib/python3.10/site-packages/transformers/training_args.py:1525: FutureWarning: `evaluation_strategy` is deprecated and will be removed in version 4.46 of 🤗 Transformers. Use `eval_strategy` instead\n",
      "  warnings.warn(\n"
     ]
    }
   ],
   "source": [
    "training_args = TrainingArguments(output_dir='./results', \n",
    "                                  evaluation_strategy='epoch',\n",
    "                                  num_train_epochs= 3,\n",
    "                                  report_to=\"none\")\n",
    "\n",
    "trainer = Trainer(model=model, \n",
    "                  args=training_args, \n",
    "                  train_dataset=train_dataset,\n",
    "                  eval_dataset=test_dataset,\n",
    "                  tokenizer=tokenizer,\n",
    "                  compute_metrics=compute_metrics\n",
    "                 )"
   ]
  },
  {
   "cell_type": "code",
   "execution_count": 59,
   "metadata": {
    "execution": {
     "iopub.execute_input": "2025-02-11T17:17:56.584331Z",
     "iopub.status.busy": "2025-02-11T17:17:56.583917Z",
     "iopub.status.idle": "2025-02-11T17:49:35.576178Z",
     "shell.execute_reply": "2025-02-11T17:49:35.575077Z",
     "shell.execute_reply.started": "2025-02-11T17:17:56.584297Z"
    },
    "trusted": true
   },
   "outputs": [
    {
     "name": "stderr",
     "output_type": "stream",
     "text": [
      "/opt/conda/lib/python3.10/site-packages/torch/nn/parallel/parallel_apply.py:79: FutureWarning: `torch.cuda.amp.autocast(args...)` is deprecated. Please use `torch.amp.autocast('cuda', args...)` instead.\n",
      "  with torch.cuda.device(device), torch.cuda.stream(stream), autocast(enabled=autocast_enabled):\n",
      "/opt/conda/lib/python3.10/site-packages/torch/nn/parallel/_functions.py:68: UserWarning: Was asked to gather along dimension 0, but all input tensors were scalars; will instead unsqueeze and return a vector.\n",
      "  warnings.warn('Was asked to gather along dimension 0, but all '\n"
     ]
    },
    {
     "data": {
      "text/html": [
       "\n",
       "    <div>\n",
       "      \n",
       "      <progress value='5976' max='5976' style='width:300px; height:20px; vertical-align: middle;'></progress>\n",
       "      [5976/5976 31:38, Epoch 3/3]\n",
       "    </div>\n",
       "    <table border=\"1\" class=\"dataframe\">\n",
       "  <thead>\n",
       " <tr style=\"text-align: left;\">\n",
       "      <th>Epoch</th>\n",
       "      <th>Training Loss</th>\n",
       "      <th>Validation Loss</th>\n",
       "      <th>Accuracy</th>\n",
       "      <th>Precision</th>\n",
       "      <th>Recall</th>\n",
       "      <th>F1-score</th>\n",
       "    </tr>\n",
       "  </thead>\n",
       "  <tbody>\n",
       "    <tr>\n",
       "      <td>1</td>\n",
       "      <td>0.217800</td>\n",
       "      <td>0.223751</td>\n",
       "      <td>0.928697</td>\n",
       "      <td>0.988323</td>\n",
       "      <td>0.861880</td>\n",
       "      <td>0.920781</td>\n",
       "    </tr>\n",
       "    <tr>\n",
       "      <td>2</td>\n",
       "      <td>0.163100</td>\n",
       "      <td>0.220957</td>\n",
       "      <td>0.927693</td>\n",
       "      <td>0.956510</td>\n",
       "      <td>0.890078</td>\n",
       "      <td>0.922099</td>\n",
       "    </tr>\n",
       "    <tr>\n",
       "      <td>3</td>\n",
       "      <td>0.119500</td>\n",
       "      <td>0.260463</td>\n",
       "      <td>0.924052</td>\n",
       "      <td>0.944093</td>\n",
       "      <td>0.895039</td>\n",
       "      <td>0.918912</td>\n",
       "    </tr>\n",
       "  </tbody>\n",
       "</table><p>"
      ],
      "text/plain": [
       "<IPython.core.display.HTML object>"
      ]
     },
     "metadata": {},
     "output_type": "display_data"
    },
    {
     "name": "stderr",
     "output_type": "stream",
     "text": [
      "/opt/conda/lib/python3.10/site-packages/torch/nn/parallel/parallel_apply.py:79: FutureWarning: `torch.cuda.amp.autocast(args...)` is deprecated. Please use `torch.amp.autocast('cuda', args...)` instead.\n",
      "  with torch.cuda.device(device), torch.cuda.stream(stream), autocast(enabled=autocast_enabled):\n",
      "/opt/conda/lib/python3.10/site-packages/torch/nn/parallel/_functions.py:68: UserWarning: Was asked to gather along dimension 0, but all input tensors were scalars; will instead unsqueeze and return a vector.\n",
      "  warnings.warn('Was asked to gather along dimension 0, but all '\n",
      "/opt/conda/lib/python3.10/site-packages/torch/nn/parallel/parallel_apply.py:79: FutureWarning: `torch.cuda.amp.autocast(args...)` is deprecated. Please use `torch.amp.autocast('cuda', args...)` instead.\n",
      "  with torch.cuda.device(device), torch.cuda.stream(stream), autocast(enabled=autocast_enabled):\n",
      "/opt/conda/lib/python3.10/site-packages/torch/nn/parallel/_functions.py:68: UserWarning: Was asked to gather along dimension 0, but all input tensors were scalars; will instead unsqueeze and return a vector.\n",
      "  warnings.warn('Was asked to gather along dimension 0, but all '\n",
      "/opt/conda/lib/python3.10/site-packages/torch/nn/parallel/parallel_apply.py:79: FutureWarning: `torch.cuda.amp.autocast(args...)` is deprecated. Please use `torch.amp.autocast('cuda', args...)` instead.\n",
      "  with torch.cuda.device(device), torch.cuda.stream(stream), autocast(enabled=autocast_enabled):\n",
      "/opt/conda/lib/python3.10/site-packages/torch/nn/parallel/_functions.py:68: UserWarning: Was asked to gather along dimension 0, but all input tensors were scalars; will instead unsqueeze and return a vector.\n",
      "  warnings.warn('Was asked to gather along dimension 0, but all '\n",
      "/opt/conda/lib/python3.10/site-packages/torch/nn/parallel/parallel_apply.py:79: FutureWarning: `torch.cuda.amp.autocast(args...)` is deprecated. Please use `torch.amp.autocast('cuda', args...)` instead.\n",
      "  with torch.cuda.device(device), torch.cuda.stream(stream), autocast(enabled=autocast_enabled):\n",
      "/opt/conda/lib/python3.10/site-packages/torch/nn/parallel/_functions.py:68: UserWarning: Was asked to gather along dimension 0, but all input tensors were scalars; will instead unsqueeze and return a vector.\n",
      "  warnings.warn('Was asked to gather along dimension 0, but all '\n",
      "/opt/conda/lib/python3.10/site-packages/torch/nn/parallel/parallel_apply.py:79: FutureWarning: `torch.cuda.amp.autocast(args...)` is deprecated. Please use `torch.amp.autocast('cuda', args...)` instead.\n",
      "  with torch.cuda.device(device), torch.cuda.stream(stream), autocast(enabled=autocast_enabled):\n",
      "/opt/conda/lib/python3.10/site-packages/torch/nn/parallel/_functions.py:68: UserWarning: Was asked to gather along dimension 0, but all input tensors were scalars; will instead unsqueeze and return a vector.\n",
      "  warnings.warn('Was asked to gather along dimension 0, but all '\n",
      "/opt/conda/lib/python3.10/site-packages/torch/nn/parallel/parallel_apply.py:79: FutureWarning: `torch.cuda.amp.autocast(args...)` is deprecated. Please use `torch.amp.autocast('cuda', args...)` instead.\n",
      "  with torch.cuda.device(device), torch.cuda.stream(stream), autocast(enabled=autocast_enabled):\n",
      "/opt/conda/lib/python3.10/site-packages/torch/nn/parallel/_functions.py:68: UserWarning: Was asked to gather along dimension 0, but all input tensors were scalars; will instead unsqueeze and return a vector.\n",
      "  warnings.warn('Was asked to gather along dimension 0, but all '\n",
      "/opt/conda/lib/python3.10/site-packages/torch/nn/parallel/parallel_apply.py:79: FutureWarning: `torch.cuda.amp.autocast(args...)` is deprecated. Please use `torch.amp.autocast('cuda', args...)` instead.\n",
      "  with torch.cuda.device(device), torch.cuda.stream(stream), autocast(enabled=autocast_enabled):\n",
      "/opt/conda/lib/python3.10/site-packages/torch/nn/parallel/_functions.py:68: UserWarning: Was asked to gather along dimension 0, but all input tensors were scalars; will instead unsqueeze and return a vector.\n",
      "  warnings.warn('Was asked to gather along dimension 0, but all '\n",
      "/opt/conda/lib/python3.10/site-packages/torch/nn/parallel/parallel_apply.py:79: FutureWarning: `torch.cuda.amp.autocast(args...)` is deprecated. Please use `torch.amp.autocast('cuda', args...)` instead.\n",
      "  with torch.cuda.device(device), torch.cuda.stream(stream), autocast(enabled=autocast_enabled):\n",
      "/opt/conda/lib/python3.10/site-packages/torch/nn/parallel/_functions.py:68: UserWarning: Was asked to gather along dimension 0, but all input tensors were scalars; will instead unsqueeze and return a vector.\n",
      "  warnings.warn('Was asked to gather along dimension 0, but all '\n",
      "/opt/conda/lib/python3.10/site-packages/torch/nn/parallel/parallel_apply.py:79: FutureWarning: `torch.cuda.amp.autocast(args...)` is deprecated. Please use `torch.amp.autocast('cuda', args...)` instead.\n",
      "  with torch.cuda.device(device), torch.cuda.stream(stream), autocast(enabled=autocast_enabled):\n",
      "/opt/conda/lib/python3.10/site-packages/torch/nn/parallel/_functions.py:68: UserWarning: Was asked to gather along dimension 0, but all input tensors were scalars; will instead unsqueeze and return a vector.\n",
      "  warnings.warn('Was asked to gather along dimension 0, but all '\n",
      "/opt/conda/lib/python3.10/site-packages/torch/nn/parallel/parallel_apply.py:79: FutureWarning: `torch.cuda.amp.autocast(args...)` is deprecated. Please use `torch.amp.autocast('cuda', args...)` instead.\n",
      "  with torch.cuda.device(device), torch.cuda.stream(stream), autocast(enabled=autocast_enabled):\n",
      "/opt/conda/lib/python3.10/site-packages/torch/nn/parallel/_functions.py:68: UserWarning: Was asked to gather along dimension 0, but all input tensors were scalars; will instead unsqueeze and return a vector.\n",
      "  warnings.warn('Was asked to gather along dimension 0, but all '\n",
      "/opt/conda/lib/python3.10/site-packages/torch/nn/parallel/parallel_apply.py:79: FutureWarning: `torch.cuda.amp.autocast(args...)` is deprecated. Please use `torch.amp.autocast('cuda', args...)` instead.\n",
      "  with torch.cuda.device(device), torch.cuda.stream(stream), autocast(enabled=autocast_enabled):\n",
      "/opt/conda/lib/python3.10/site-packages/torch/nn/parallel/_functions.py:68: UserWarning: Was asked to gather along dimension 0, but all input tensors were scalars; will instead unsqueeze and return a vector.\n",
      "  warnings.warn('Was asked to gather along dimension 0, but all '\n",
      "/opt/conda/lib/python3.10/site-packages/torch/nn/parallel/parallel_apply.py:79: FutureWarning: `torch.cuda.amp.autocast(args...)` is deprecated. Please use `torch.amp.autocast('cuda', args...)` instead.\n",
      "  with torch.cuda.device(device), torch.cuda.stream(stream), autocast(enabled=autocast_enabled):\n",
      "/opt/conda/lib/python3.10/site-packages/torch/nn/parallel/_functions.py:68: UserWarning: Was asked to gather along dimension 0, but all input tensors were scalars; will instead unsqueeze and return a vector.\n",
      "  warnings.warn('Was asked to gather along dimension 0, but all '\n",
      "/opt/conda/lib/python3.10/site-packages/torch/nn/parallel/parallel_apply.py:79: FutureWarning: `torch.cuda.amp.autocast(args...)` is deprecated. Please use `torch.amp.autocast('cuda', args...)` instead.\n",
      "  with torch.cuda.device(device), torch.cuda.stream(stream), autocast(enabled=autocast_enabled):\n",
      "/opt/conda/lib/python3.10/site-packages/torch/nn/parallel/_functions.py:68: UserWarning: Was asked to gather along dimension 0, but all input tensors were scalars; will instead unsqueeze and return a vector.\n",
      "  warnings.warn('Was asked to gather along dimension 0, but all '\n",
      "/opt/conda/lib/python3.10/site-packages/torch/nn/parallel/parallel_apply.py:79: FutureWarning: `torch.cuda.amp.autocast(args...)` is deprecated. Please use `torch.amp.autocast('cuda', args...)` instead.\n",
      "  with torch.cuda.device(device), torch.cuda.stream(stream), autocast(enabled=autocast_enabled):\n",
      "/opt/conda/lib/python3.10/site-packages/torch/nn/parallel/_functions.py:68: UserWarning: Was asked to gather along dimension 0, but all input tensors were scalars; will instead unsqueeze and return a vector.\n",
      "  warnings.warn('Was asked to gather along dimension 0, but all '\n"
     ]
    },
    {
     "data": {
      "text/plain": [
       "TrainOutput(global_step=5976, training_loss=0.162133615179713, metrics={'train_runtime': 1898.5533, 'train_samples_per_second': 50.344, 'train_steps_per_second': 3.148, 'total_flos': 6287038667827200.0, 'train_loss': 0.162133615179713, 'epoch': 3.0})"
      ]
     },
     "execution_count": 59,
     "metadata": {},
     "output_type": "execute_result"
    }
   ],
   "source": [
    "trainer.train()"
   ]
  },
  {
   "cell_type": "markdown",
   "metadata": {},
   "source": [
    "## Avaliação"
   ]
  },
  {
   "cell_type": "code",
   "execution_count": 60,
   "metadata": {
    "execution": {
     "iopub.execute_input": "2025-02-11T17:49:35.578072Z",
     "iopub.status.busy": "2025-02-11T17:49:35.577736Z",
     "iopub.status.idle": "2025-02-11T17:50:20.801880Z",
     "shell.execute_reply": "2025-02-11T17:50:20.801019Z",
     "shell.execute_reply.started": "2025-02-11T17:49:35.578043Z"
    },
    "trusted": true
   },
   "outputs": [
    {
     "name": "stderr",
     "output_type": "stream",
     "text": [
      "/opt/conda/lib/python3.10/site-packages/torch/nn/parallel/parallel_apply.py:79: FutureWarning: `torch.cuda.amp.autocast(args...)` is deprecated. Please use `torch.amp.autocast('cuda', args...)` instead.\n",
      "  with torch.cuda.device(device), torch.cuda.stream(stream), autocast(enabled=autocast_enabled):\n",
      "/opt/conda/lib/python3.10/site-packages/torch/nn/parallel/_functions.py:68: UserWarning: Was asked to gather along dimension 0, but all input tensors were scalars; will instead unsqueeze and return a vector.\n",
      "  warnings.warn('Was asked to gather along dimension 0, but all '\n"
     ]
    },
    {
     "data": {
      "text/html": [
       "\n",
       "    <div>\n",
       "      \n",
       "      <progress value='498' max='498' style='width:300px; height:20px; vertical-align: middle;'></progress>\n",
       "      [498/498 00:45]\n",
       "    </div>\n",
       "    "
      ],
      "text/plain": [
       "<IPython.core.display.HTML object>"
      ]
     },
     "metadata": {},
     "output_type": "display_data"
    },
    {
     "data": {
      "text/plain": [
       "{'eval_loss': 0.26046282052993774,\n",
       " 'eval_accuracy': 0.9240522219432589,\n",
       " 'eval_precision': 0.9440925364913247,\n",
       " 'eval_recall': 0.8950391644908616,\n",
       " 'eval_f1-score': 0.9189116740383327,\n",
       " 'eval_runtime': 45.2186,\n",
       " 'eval_samples_per_second': 176.167,\n",
       " 'eval_steps_per_second': 11.013,\n",
       " 'epoch': 3.0}"
      ]
     },
     "execution_count": 60,
     "metadata": {},
     "output_type": "execute_result"
    }
   ],
   "source": [
    "trainer.evaluate()"
   ]
  },
  {
   "cell_type": "code",
   "execution_count": 61,
   "metadata": {
    "execution": {
     "iopub.execute_input": "2025-02-11T17:50:20.803373Z",
     "iopub.status.busy": "2025-02-11T17:50:20.803057Z",
     "iopub.status.idle": "2025-02-11T17:50:22.053970Z",
     "shell.execute_reply": "2025-02-11T17:50:22.053070Z",
     "shell.execute_reply.started": "2025-02-11T17:50:20.803342Z"
    },
    "trusted": true
   },
   "outputs": [
    {
     "data": {
      "text/plain": [
       "('./trained_model/tokenizer_config.json',\n",
       " './trained_model/special_tokens_map.json',\n",
       " './trained_model/vocab.txt',\n",
       " './trained_model/added_tokens.json')"
      ]
     },
     "execution_count": 61,
     "metadata": {},
     "output_type": "execute_result"
    }
   ],
   "source": [
    "model.save_pretrained('./trained_model')\n",
    "tokenizer.save_pretrained('./trained_model')"
   ]
  },
  {
   "cell_type": "code",
   "execution_count": 62,
   "metadata": {
    "execution": {
     "iopub.execute_input": "2025-02-11T17:50:22.055932Z",
     "iopub.status.busy": "2025-02-11T17:50:22.055629Z",
     "iopub.status.idle": "2025-02-11T17:51:18.747172Z",
     "shell.execute_reply": "2025-02-11T17:51:18.746226Z",
     "shell.execute_reply.started": "2025-02-11T17:50:22.055905Z"
    },
    "trusted": true
   },
   "outputs": [
    {
     "name": "stdout",
     "output_type": "stream",
     "text": [
      "              precision    recall  f1-score   support\n",
      "\n",
      "           0       0.91      0.95      0.93      4136\n",
      "           1       0.94      0.90      0.92      3830\n",
      "\n",
      "    accuracy                           0.92      7966\n",
      "   macro avg       0.93      0.92      0.92      7966\n",
      "weighted avg       0.92      0.92      0.92      7966\n",
      "\n",
      "0.9240522219432589\n"
     ]
    },
    {
     "data": {
      "image/png": "[encoded data removed]",
      "text/plain": [
       "<Figure size 800x600 with 2 Axes>"
      ]
     },
     "metadata": {},
     "output_type": "display_data"
    }
   ],
   "source": [
    "true_labels = []\n",
    "pred_labels = []\n",
    "\n",
    "model.eval()\n",
    "\n",
    "validation_dataloader = DataLoader(test_dataset, batch_size=16, shuffle=False)\n",
    "\n",
    "with torch.no_grad():\n",
    "    for i in validation_dataloader:\n",
    "        \n",
    "        inputs = {key: val.to(device) for key, val in i.items()}\n",
    "\n",
    "        labels = inputs.pop('labels').to('cpu').numpy()\n",
    "\n",
    "        outputs = model(**inputs)\n",
    "\n",
    "        preds = torch.argmax(outputs.logits, dim=1).to('cpu').numpy()\n",
    "\n",
    "        true_labels.extend(labels)\n",
    "        pred_labels.extend(preds)\n",
    "\n",
    "cm = confusion_matrix(true_labels, pred_labels)\n",
    "print(classification_report(true_labels, pred_labels))\n",
    "bert_accuracy = accuracy_score(true_labels, pred_labels)\n",
    "print(bert_accuracy)\n",
    "plt.figure(figsize=(8, 6))\n",
    "sns.heatmap(cm, annot=True, fmt='d', cmap='crest', cbar=True) \n",
    "plt.xlabel('Rótulos previstos')\n",
    "plt.ylabel('Rótulos verdadeiros')\n",
    "plt.title('Matriz de confusão')\n",
    "plt.xticks([0.5, 1.5], ['Falso', 'Verdadeiro']) \n",
    "plt.yticks([0.5, 1.5], ['Falso', 'Verdadeiro'])\n",
    "plt.savefig('matriz-conf.png')\n",
    "plt.show()"
   ]
  },
  {
   "cell_type": "code",
   "execution_count": null,
   "metadata": {
    "execution": {
     "iopub.status.busy": "2025-02-11T17:15:22.475781Z",
     "iopub.status.idle": "2025-02-11T17:15:22.476084Z",
     "shell.execute_reply": "2025-02-11T17:15:22.475954Z",
     "shell.execute_reply.started": "2025-02-11T17:15:22.475940Z"
    },
    "trusted": true
   },
   "outputs": [],
   "source": [
    "def predict(text):\n",
    "    \n",
    "    inputs = tokenizer(text, return_tensors='pt')\n",
    "    inputs = {key: val.to(device) for key, val in inputs.items()}\n",
    "    \n",
    "    with torch.no_grad():\n",
    "        outputs = model(**inputs)\n",
    "        \n",
    "    prediction = torch.argmax(outputs.logits, dim=1).item()\n",
    "    return (\"Verdadeiro\" if prediction == 1 else \"Falso\")"
   ]
  },
  {
   "cell_type": "code",
   "execution_count": null,
   "metadata": {
    "execution": {
     "iopub.status.busy": "2025-02-11T17:15:22.476964Z",
     "iopub.status.idle": "2025-02-11T17:15:22.477237Z",
     "shell.execute_reply": "2025-02-11T17:15:22.477120Z",
     "shell.execute_reply.started": "2025-02-11T17:15:22.477106Z"
    },
    "trusted": true
   },
   "outputs": [],
   "source": [
    "print(predict(\"O novo estudo afirma que a lua é feita de queijo.\"))"
   ]
  },
  {
   "cell_type": "code",
   "execution_count": null,
   "metadata": {
    "execution": {
     "iopub.status.busy": "2025-02-11T17:15:22.478667Z",
     "iopub.status.idle": "2025-02-11T17:15:22.479041Z",
     "shell.execute_reply": "2025-02-11T17:15:22.478882Z",
     "shell.execute_reply.started": "2025-02-11T17:15:22.478863Z"
    },
    "trusted": true
   },
   "outputs": [],
   "source": [
    "print(predict('A fumaça das queimadas que tem encoberto cidades do Norte, Centro-Oeste, Sudeste e Sul do país causa preocupação não só entre ambientalistas, mas também entre médicos e especialistas em saúde.'))"
   ]
  },
  {
   "cell_type": "code",
   "execution_count": null,
   "metadata": {
    "execution": {
     "iopub.status.busy": "2025-02-11T17:15:22.480396Z",
     "iopub.status.idle": "2025-02-11T17:15:22.480698Z",
     "shell.execute_reply": "2025-02-11T17:15:22.480566Z",
     "shell.execute_reply.started": "2025-02-11T17:15:22.480551Z"
    },
    "trusted": true
   },
   "outputs": [],
   "source": [
    "from transformers import BertForPreTraining\n",
    "modelo_base = BertForSequenceClassification.from_pretrained('neuralmind/bert-base-portuguese-cased')\n",
    "modelo_treinado = BertForSequenceClassification.from_pretrained('./trained_model')"
   ]
  },
  {
   "cell_type": "code",
   "execution_count": null,
   "metadata": {
    "execution": {
     "iopub.status.busy": "2025-02-11T17:15:22.482249Z",
     "iopub.status.idle": "2025-02-11T17:15:22.482535Z",
     "shell.execute_reply": "2025-02-11T17:15:22.482420Z",
     "shell.execute_reply.started": "2025-02-11T17:15:22.482406Z"
    },
    "trusted": true
   },
   "outputs": [],
   "source": [
    "trainer_base = Trainer(\n",
    "    model=modelo_base,\n",
    "    args=training_args,\n",
    "    compute_metrics=compute_metrics,\n",
    "    eval_dataset=test_dataset\n",
    ")\n",
    "result_base = trainer_base.evaluate()"
   ]
  },
  {
   "cell_type": "code",
   "execution_count": null,
   "metadata": {
    "execution": {
     "iopub.status.busy": "2025-02-11T17:15:22.483959Z",
     "iopub.status.idle": "2025-02-11T17:15:22.484233Z",
     "shell.execute_reply": "2025-02-11T17:15:22.484116Z",
     "shell.execute_reply.started": "2025-02-11T17:15:22.484103Z"
    },
    "trusted": true
   },
   "outputs": [],
   "source": [
    "trainer_treinado = Trainer(\n",
    "    model=modelo_treinado,\n",
    "    args=training_args,\n",
    "    compute_metrics=compute_metrics,\n",
    "    eval_dataset=test_dataset\n",
    ")\n",
    "result_treinado = trainer_treinado.evaluate()"
   ]
  },
  {
   "cell_type": "code",
   "execution_count": null,
   "metadata": {
    "execution": {
     "iopub.status.busy": "2025-02-11T17:15:22.484890Z",
     "iopub.status.idle": "2025-02-11T17:15:22.485184Z",
     "shell.execute_reply": "2025-02-11T17:15:22.485060Z",
     "shell.execute_reply.started": "2025-02-11T17:15:22.485045Z"
    },
    "trusted": true
   },
   "outputs": [],
   "source": [
    "print(\"Modelo Base:\", result_base)\n",
    "print(\"Modelo Treinado em Notícias Falsas:\", result_treinado)"
   ]
  },
  {
   "cell_type": "code",
   "execution_count": null,
   "metadata": {
    "execution": {
     "iopub.status.busy": "2025-02-11T17:15:22.486205Z",
     "iopub.status.idle": "2025-02-11T17:15:22.486547Z",
     "shell.execute_reply": "2025-02-11T17:15:22.486391Z",
     "shell.execute_reply.started": "2025-02-11T17:15:22.486375Z"
    },
    "trusted": true
   },
   "outputs": [],
   "source": [
    "result_base = {\n",
    "    'accuracy': result_base['eval_accuracy'],\n",
    "    'precision': result_base['eval_precision'],\n",
    "    'recall': result_base['eval_recall'],\n",
    "    'f1': result_base['eval_f1-score']\n",
    "}\n",
    "\n",
    "result_treinado = {\n",
    "    'Accuracy': result_treinado['eval_accuracy'],\n",
    "    'Precision': result_treinado['eval_precision'],\n",
    "    'Recall': result_treinado['eval_recall'],\n",
    "    'F1-score': result_treinado['eval_f1-score']\n",
    "}"
   ]
  },
  {
   "cell_type": "code",
   "execution_count": null,
   "metadata": {
    "execution": {
     "iopub.status.busy": "2025-02-11T17:15:22.487694Z",
     "iopub.status.idle": "2025-02-11T17:15:22.488023Z",
     "shell.execute_reply": "2025-02-11T17:15:22.487875Z",
     "shell.execute_reply.started": "2025-02-11T17:15:22.487859Z"
    },
    "trusted": true
   },
   "outputs": [],
   "source": [
    "metrics = metrics = [\"Acurácia\", \"Precisão\", \"Revocação\", \"F1-Score\"]\n",
    "values_base = list(result_base.values())\n",
    "values_treinado = list(result_treinado.values())\n",
    "\n",
    "x = np.arange(len(metrics))\n",
    "width = 0.35\n",
    "\n",
    "fig, ax = plt.subplots(figsize=(10,6))\n",
    "bar1 = ax.bar(x - width/2, values_base, width, label='Modelo Base', color='royalblue')\n",
    "bar2 = ax.bar(x + width/2, values_treinado, width, label='Modelo Treinado', color='seagreen')\n",
    "\n",
    "ax.set_xlabel('Métricas')\n",
    "ax.set_ylabel('Valores')\n",
    "ax.set_title('Comparação entre os Modelos')\n",
    "ax.set_xticks(x)\n",
    "ax.set_xticklabels(metrics)\n",
    "ax.legend(loc='upper left', bbox_to_anchor=(-0.1, 1))\n",
    "\n",
    "for bar in bar1:\n",
    "    yval = bar.get_height()\n",
    "    ax.text(bar.get_x() + bar.get_width() / 2, yval, f'{yval:.2f}%', ha='center', va='bottom')\n",
    "\n",
    "for bar in bar2:\n",
    "    yval = bar.get_height()\n",
    "    ax.text(bar.get_x() + bar.get_width() / 2, yval, f'{yval:.2f}%', ha='center', va='bottom')\n",
    "\n",
    "\n",
    "plt.tight_layout()\n",
    "plt.savefig('comp-modelos.png')\n",
    "plt.show()"
   ]
  },
  {
   "cell_type": "code",
   "execution_count": null,
   "metadata": {
    "execution": {
     "iopub.status.busy": "2025-02-11T17:15:22.489432Z",
     "iopub.status.idle": "2025-02-11T17:15:22.489845Z",
     "shell.execute_reply": "2025-02-11T17:15:22.489609Z",
     "shell.execute_reply.started": "2025-02-11T17:15:22.489592Z"
    },
    "trusted": true
   },
   "outputs": [],
   "source": [
    "true_labels = []\n",
    "pred_labels = []\n",
    "\n",
    "model.eval()\n",
    "\n",
    "validation_dataloader = DataLoader(test_dataset, batch_size=16, shuffle=False)\n",
    "\n",
    "with torch.no_grad():\n",
    "    for i in validation_dataloader:\n",
    "        \n",
    "        inputs = {key: val.to(device) for key, val in i.items()}\n",
    "\n",
    "        labels = inputs.pop('labels').to('cpu').numpy()\n",
    "\n",
    "        outputs = modelo_base(**inputs)\n",
    "\n",
    "        preds = torch.argmax(outputs.logits, dim=1).to('cpu').numpy()\n",
    "\n",
    "        true_labels.extend(labels)\n",
    "        pred_labels.extend(preds)\n",
    "\n",
    "cm = confusion_matrix(true_labels, pred_labels)\n",
    "print(classification_report(true_labels, pred_labels))\n",
    "bert_accuracy = accuracy_score(true_labels, pred_labels)\n",
    "print(bert_accuracy)\n",
    "plt.figure(figsize=(8, 6))\n",
    "sns.heatmap(cm, annot=True, fmt='d', cmap='crest', cbar=True) \n",
    "plt.xlabel('Rótulos previstos')\n",
    "plt.ylabel('Rótulos verdadeiros')\n",
    "plt.title('Matriz de confusão')\n",
    "plt.xticks([0.5, 1.5], ['Falso', 'Verdadeiro']) \n",
    "plt.yticks([0.5, 1.5], ['Falso', 'Verdadeiro'])\n",
    "plt.savefig('matriz-conf.png')\n",
    "plt.show()"
   ]
  },
  {
   "cell_type": "code",
   "execution_count": null,
   "metadata": {
    "trusted": true
   },
   "outputs": [],
   "source": []
  }
 ],
 "metadata": {
  "kaggle": {
   "accelerator": "nvidiaTeslaT4",
   "dataSources": [
    {
     "datasetId": 2472019,
     "sourceId": 4191482,
     "sourceType": "datasetVersion"
    },
    {
     "datasetId": 5651667,
     "sourceId": 9328299,
     "sourceType": "datasetVersion"
    }
   ],
   "dockerImageVersionId": 30761,
   "isGpuEnabled": true,
   "isInternetEnabled": true,
   "language": "python",
   "sourceType": "notebook"
  },
  "kernelspec": {
   "display_name": "Python 3",
   "language": "python",
   "name": "python3"
  },
  "language_info": {
   "codemirror_mode": {
    "name": "ipython",
    "version": 3
   },
   "file_extension": ".py",
   "mimetype": "text/x-python",
   "name": "python",
   "nbconvert_exporter": "python",
   "pygments_lexer": "ipython3",
   "version": "3.10.14"
  }
 },
 "nbformat": 4,
 "nbformat_minor": 4
}
