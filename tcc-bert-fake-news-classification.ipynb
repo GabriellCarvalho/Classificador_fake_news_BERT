{
 "cells": [
  {
   "cell_type": "code",
   "execution_count": 1,
   "metadata": {
    "execution": {
     "iopub.execute_input": "2025-02-11T17:07:42.895827Z",
     "iopub.status.busy": "2025-02-11T17:07:42.895175Z",
     "iopub.status.idle": "2025-02-11T17:07:42.900950Z",
     "shell.execute_reply": "2025-02-11T17:07:42.900090Z",
     "shell.execute_reply.started": "2025-02-11T17:07:42.895779Z"
    },
    "trusted": true
   },
   "outputs": [],
   "source": [
    "import pandas as pd\n",
    "import numpy as np\n",
    "import matplotlib.pyplot as plt\n",
    "import seaborn as sns\n",
    "import re\n",
    "import torch\n",
    "from torch.utils.data import Dataset\n",
    "from torch.utils.data import DataLoader\n",
    "from transformers import BertTokenizer, BertForSequenceClassification, Trainer, TrainingArguments\n",
    "from sklearn.model_selection import train_test_split\n",
    "from sklearn.metrics import confusion_matrix,classification_report, accuracy_score, precision_score, recall_score, f1_score"
   ]
  },
  {
   "cell_type": "markdown",
   "metadata": {},
   "source": [
    "## Pré-processamento"
   ]
  },
  {
   "cell_type": "code",
   "execution_count": null,
   "metadata": {
    "execution": {
     "iopub.execute_input": "2025-02-11T17:07:42.912334Z",
     "iopub.status.busy": "2025-02-11T17:07:42.911787Z",
     "iopub.status.idle": "2025-02-11T17:07:44.747965Z",
     "shell.execute_reply": "2025-02-11T17:07:44.746848Z",
     "shell.execute_reply.started": "2025-02-11T17:07:42.912306Z"
    },
    "trusted": true
   },
   "outputs": [],
   "source": [
    "true = pd.read_csv('noticias/true.csv')\n",
    "true_2 = pd.read_csv('noticias/true_news.csv')\n",
    "fake = pd.read_csv('noticias/fake.csv')\n",
    "news = pd.concat([true, fake, true_2],axis=0, ignore_index=True)\n",
    "news.head()"
   ]
  },
  {
   "cell_type": "code",
   "execution_count": null,
   "metadata": {
    "execution": {
     "iopub.execute_input": "2025-02-11T17:07:44.749699Z",
     "iopub.status.busy": "2025-02-11T17:07:44.749464Z",
     "iopub.status.idle": "2025-02-11T17:07:44.760236Z",
     "shell.execute_reply": "2025-02-11T17:07:44.759317Z",
     "shell.execute_reply.started": "2025-02-11T17:07:44.749676Z"
    },
    "trusted": true
   },
   "outputs": [],
   "source": [
    "news.tail()"
   ]
  },
  {
   "cell_type": "code",
   "execution_count": null,
   "metadata": {
    "execution": {
     "iopub.execute_input": "2025-02-11T17:07:44.761749Z",
     "iopub.status.busy": "2025-02-11T17:07:44.761474Z",
     "iopub.status.idle": "2025-02-11T17:07:44.781252Z",
     "shell.execute_reply": "2025-02-11T17:07:44.780372Z",
     "shell.execute_reply.started": "2025-02-11T17:07:44.761722Z"
    },
    "trusted": true
   },
   "outputs": [],
   "source": [
    "news.drop(['title','url','publisher_site', 'origin', 'publisher_name', 'date'], axis=1, inplace=True)\n",
    "news"
   ]
  },
  {
   "cell_type": "code",
   "execution_count": null,
   "metadata": {
    "execution": {
     "iopub.execute_input": "2025-02-11T17:07:44.783311Z",
     "iopub.status.busy": "2025-02-11T17:07:44.783038Z",
     "iopub.status.idle": "2025-02-11T17:07:44.797655Z",
     "shell.execute_reply": "2025-02-11T17:07:44.796777Z",
     "shell.execute_reply.started": "2025-02-11T17:07:44.783282Z"
    },
    "trusted": true
   },
   "outputs": [],
   "source": [
    "news.isna().sum()"
   ]
  },
  {
   "cell_type": "code",
   "execution_count": 6,
   "metadata": {
    "execution": {
     "iopub.execute_input": "2025-02-11T17:07:44.798891Z",
     "iopub.status.busy": "2025-02-11T17:07:44.798616Z",
     "iopub.status.idle": "2025-02-11T17:07:44.823689Z",
     "shell.execute_reply": "2025-02-11T17:07:44.823024Z",
     "shell.execute_reply.started": "2025-02-11T17:07:44.798856Z"
    },
    "trusted": true
   },
   "outputs": [],
   "source": [
    "#true=0,fake=1 to true=1, fake=0\n",
    "news['label'] = news['label'].apply(lambda x: 1 if x == 0 else 0)"
   ]
  },
  {
   "cell_type": "code",
   "execution_count": null,
   "metadata": {
    "execution": {
     "iopub.execute_input": "2025-02-11T17:07:44.824748Z",
     "iopub.status.busy": "2025-02-11T17:07:44.824534Z",
     "iopub.status.idle": "2025-02-11T17:07:44.831062Z",
     "shell.execute_reply": "2025-02-11T17:07:44.830234Z",
     "shell.execute_reply.started": "2025-02-11T17:07:44.824725Z"
    },
    "trusted": true
   },
   "outputs": [],
   "source": [
    "news['label'].unique() "
   ]
  },
  {
   "cell_type": "code",
   "execution_count": null,
   "metadata": {
    "execution": {
     "iopub.execute_input": "2025-02-11T17:07:44.832444Z",
     "iopub.status.busy": "2025-02-11T17:07:44.832139Z",
     "iopub.status.idle": "2025-02-11T17:07:45.063871Z",
     "shell.execute_reply": "2025-02-11T17:07:45.063044Z",
     "shell.execute_reply.started": "2025-02-11T17:07:44.832412Z"
    },
    "trusted": true
   },
   "outputs": [],
   "source": [
    "sns.countplot(x='label', data=news)"
   ]
  },
  {
   "cell_type": "code",
   "execution_count": null,
   "metadata": {
    "execution": {
     "iopub.execute_input": "2025-02-11T17:07:45.065702Z",
     "iopub.status.busy": "2025-02-11T17:07:45.065306Z",
     "iopub.status.idle": "2025-02-11T17:07:45.083765Z",
     "shell.execute_reply": "2025-02-11T17:07:45.083053Z",
     "shell.execute_reply.started": "2025-02-11T17:07:45.065659Z"
    },
    "trusted": true
   },
   "outputs": [],
   "source": [
    "news = news.sample(frac=1, random_state=1).reset_index(drop=True)\n",
    "news"
   ]
  },
  {
   "cell_type": "code",
   "execution_count": 10,
   "metadata": {
    "execution": {
     "iopub.execute_input": "2025-02-11T17:07:45.085118Z",
     "iopub.status.busy": "2025-02-11T17:07:45.084796Z",
     "iopub.status.idle": "2025-02-11T17:07:45.090899Z",
     "shell.execute_reply": "2025-02-11T17:07:45.089787Z",
     "shell.execute_reply.started": "2025-02-11T17:07:45.085089Z"
    },
    "trusted": true
   },
   "outputs": [],
   "source": [
    "def text_cleaning(text):\n",
    "  text = text.lower()\n",
    "\n",
    "  text = re.sub(r'[^\\w\\s]', '', text) #Remover pontuação\n",
    "\n",
    "  text = re.sub(r'[\\d]', '', text) #Remover digitos\n",
    "\n",
    "  text = re.sub(r'https?://S+|www\\.\\S+', '', text) #Remover URLs\n",
    "\n",
    "  return text"
   ]
  },
  {
   "cell_type": "code",
   "execution_count": null,
   "metadata": {
    "execution": {
     "iopub.execute_input": "2025-02-11T17:07:45.094610Z",
     "iopub.status.busy": "2025-02-11T17:07:45.094266Z",
     "iopub.status.idle": "2025-02-11T17:07:47.934656Z",
     "shell.execute_reply": "2025-02-11T17:07:47.933607Z",
     "shell.execute_reply.started": "2025-02-11T17:07:45.094562Z"
    },
    "trusted": true
   },
   "outputs": [],
   "source": [
    "news['text'] = news['text'].apply(text_cleaning)\n",
    "news"
   ]
  },
  {
   "cell_type": "markdown",
   "metadata": {},
   "source": [
    "## Modelagem e treinamento"
   ]
  },
  {
   "cell_type": "code",
   "execution_count": null,
   "metadata": {
    "execution": {
     "iopub.execute_input": "2025-02-11T17:07:47.936481Z",
     "iopub.status.busy": "2025-02-11T17:07:47.936065Z",
     "iopub.status.idle": "2025-02-11T17:07:48.741506Z",
     "shell.execute_reply": "2025-02-11T17:07:48.740707Z",
     "shell.execute_reply.started": "2025-02-11T17:07:47.936433Z"
    },
    "trusted": true
   },
   "outputs": [],
   "source": [
    "tokenizer = BertTokenizer.from_pretrained('neuralmind/bert-base-portuguese-cased', do_lower_case=False, clean_up_tokenization_spaces=True)\n",
    "model = BertForSequenceClassification.from_pretrained('neuralmind/bert-base-portuguese-cased', num_labels=2)\n",
    "\n",
    "device = torch.device('cuda' if torch.cuda.is_available() else 'cpu')\n",
    "model.to(device);"
   ]
  },
  {
   "cell_type": "code",
   "execution_count": null,
   "metadata": {
    "execution": {
     "iopub.execute_input": "2025-02-11T17:07:48.742742Z",
     "iopub.status.busy": "2025-02-11T17:07:48.742512Z",
     "iopub.status.idle": "2025-02-11T17:07:48.750044Z",
     "shell.execute_reply": "2025-02-11T17:07:48.749229Z",
     "shell.execute_reply.started": "2025-02-11T17:07:48.742719Z"
    },
    "trusted": true
   },
   "outputs": [],
   "source": [
    "noticias = news['text'].tolist() \n",
    "rotulo = news['label'].tolist()"
   ]
  },
  {
   "cell_type": "code",
   "execution_count": null,
   "metadata": {
    "execution": {
     "iopub.execute_input": "2025-02-11T17:07:48.751087Z",
     "iopub.status.busy": "2025-02-11T17:07:48.750834Z",
     "iopub.status.idle": "2025-02-11T17:10:11.456430Z",
     "shell.execute_reply": "2025-02-11T17:10:11.455481Z",
     "shell.execute_reply.started": "2025-02-11T17:07:48.751063Z"
    },
    "trusted": true
   },
   "outputs": [],
   "source": [
    "encodings = tokenizer(noticias, truncation=True, padding=True, max_length=128, return_tensors='pt')\n",
    "labels = torch.tensor(rotulo).clone().detach()\n",
    "print(len(encodings['input_ids']), len(labels))"
   ]
  },
  {
   "cell_type": "code",
   "execution_count": null,
   "metadata": {
    "execution": {
     "iopub.execute_input": "2025-02-11T17:10:11.457971Z",
     "iopub.status.busy": "2025-02-11T17:10:11.457604Z",
     "iopub.status.idle": "2025-02-11T17:10:11.486951Z",
     "shell.execute_reply": "2025-02-11T17:10:11.486097Z",
     "shell.execute_reply.started": "2025-02-11T17:10:11.457937Z"
    },
    "scrolled": true,
    "trusted": true
   },
   "outputs": [],
   "source": [
    "x_train, x_test, y_train, y_test, mask_train, mask_test = train_test_split(encodings['input_ids'], labels, encodings['attention_mask'], test_size=0.2, random_state=1)\n",
    "print(x_train.shape, y_train.shape, x_test.shape, y_test.shape)"
   ]
  },
  {
   "cell_type": "code",
   "execution_count": 52,
   "metadata": {
    "execution": {
     "iopub.execute_input": "2025-02-11T17:10:11.488492Z",
     "iopub.status.busy": "2025-02-11T17:10:11.488179Z",
     "iopub.status.idle": "2025-02-11T17:10:11.495298Z",
     "shell.execute_reply": "2025-02-11T17:10:11.494235Z",
     "shell.execute_reply.started": "2025-02-11T17:10:11.488459Z"
    },
    "trusted": true
   },
   "outputs": [],
   "source": [
    "class createDataset(Dataset):\n",
    "    def __init__(self, encodings, labels):\n",
    "        self.encodings = encodings\n",
    "        self.labels = labels\n",
    "\n",
    "    def __len__(self):\n",
    "        return len(self.labels)\n",
    "        \n",
    "    def __getitem__(self, index):\n",
    "        item = {key: self.encodings[key][index] for key in self.encodings}\n",
    "        item['labels'] = self.labels[index].clone().detach()\n",
    "        return item"
   ]
  },
  {
   "cell_type": "code",
   "execution_count": 53,
   "metadata": {
    "execution": {
     "iopub.execute_input": "2025-02-11T17:10:11.496781Z",
     "iopub.status.busy": "2025-02-11T17:10:11.496438Z",
     "iopub.status.idle": "2025-02-11T17:10:11.511098Z",
     "shell.execute_reply": "2025-02-11T17:10:11.510191Z",
     "shell.execute_reply.started": "2025-02-11T17:10:11.496744Z"
    },
    "trusted": true
   },
   "outputs": [],
   "source": [
    "def compute_metrics(p):\n",
    "    preds = np.argmax(p.predictions, axis=1)\n",
    "    return {\n",
    "        'accuracy': accuracy_score(p.label_ids, preds),\n",
    "        'precision': precision_score(p.label_ids, preds),\n",
    "        'recall': recall_score(p.label_ids, preds),\n",
    "        'f1-score': f1_score(p.label_ids, preds)\n",
    "    }"
   ]
  },
  {
   "cell_type": "code",
   "execution_count": 54,
   "metadata": {
    "execution": {
     "iopub.execute_input": "2025-02-11T17:10:11.512487Z",
     "iopub.status.busy": "2025-02-11T17:10:11.512165Z",
     "iopub.status.idle": "2025-02-11T17:10:11.525957Z",
     "shell.execute_reply": "2025-02-11T17:10:11.525215Z",
     "shell.execute_reply.started": "2025-02-11T17:10:11.512455Z"
    },
    "trusted": true
   },
   "outputs": [],
   "source": [
    "train_encodings = {'input_ids': x_train, 'attention_mask': mask_train}\n",
    "test_encodings = {'input_ids': x_test, 'attention_mask': mask_test}\n",
    "\n",
    "train_dataset = createDataset(train_encodings, y_train)\n",
    "test_dataset = createDataset(test_encodings, y_test)"
   ]
  },
  {
   "cell_type": "code",
   "execution_count": null,
   "metadata": {
    "execution": {
     "iopub.execute_input": "2025-02-11T17:10:11.527446Z",
     "iopub.status.busy": "2025-02-11T17:10:11.527137Z",
     "iopub.status.idle": "2025-02-11T17:10:11.542342Z",
     "shell.execute_reply": "2025-02-11T17:10:11.541352Z",
     "shell.execute_reply.started": "2025-02-11T17:10:11.527419Z"
    },
    "trusted": true
   },
   "outputs": [],
   "source": [
    "'''\n",
    "weight_decay=0.01,                \n",
    "logging_dir='./logs',                              \n",
    "save_steps=500,                   \n",
    "save_total_limit=2,               \n",
    "metric_for_best_model=\"precision\",\n",
    "seed=1, '''"
   ]
  },
  {
   "cell_type": "code",
   "execution_count": null,
   "metadata": {
    "execution": {
     "iopub.execute_input": "2025-02-11T17:17:55.390841Z",
     "iopub.status.busy": "2025-02-11T17:17:55.390436Z",
     "iopub.status.idle": "2025-02-11T17:17:55.439364Z",
     "shell.execute_reply": "2025-02-11T17:17:55.438337Z",
     "shell.execute_reply.started": "2025-02-11T17:17:55.390785Z"
    },
    "trusted": true
   },
   "outputs": [],
   "source": [
    "training_args = TrainingArguments(output_dir='./results', \n",
    "                                  evaluation_strategy='epoch',\n",
    "                                  num_train_epochs= 3,\n",
    "                                  report_to=\"none\")\n",
    "\n",
    "trainer = Trainer(model=model, \n",
    "                  args=training_args, \n",
    "                  train_dataset=train_dataset,\n",
    "                  eval_dataset=test_dataset,\n",
    "                  tokenizer=tokenizer,\n",
    "                  compute_metrics=compute_metrics\n",
    "                 )"
   ]
  },
  {
   "cell_type": "code",
   "execution_count": null,
   "metadata": {
    "execution": {
     "iopub.execute_input": "2025-02-11T17:17:56.584331Z",
     "iopub.status.busy": "2025-02-11T17:17:56.583917Z",
     "iopub.status.idle": "2025-02-11T17:49:35.576178Z",
     "shell.execute_reply": "2025-02-11T17:49:35.575077Z",
     "shell.execute_reply.started": "2025-02-11T17:17:56.584297Z"
    },
    "trusted": true
   },
   "outputs": [],
   "source": [
    "trainer.train()"
   ]
  },
  {
   "cell_type": "markdown",
   "metadata": {},
   "source": [
    "## Avaliação"
   ]
  },
  {
   "cell_type": "code",
   "execution_count": null,
   "metadata": {
    "execution": {
     "iopub.execute_input": "2025-02-11T17:49:35.578072Z",
     "iopub.status.busy": "2025-02-11T17:49:35.577736Z",
     "iopub.status.idle": "2025-02-11T17:50:20.801880Z",
     "shell.execute_reply": "2025-02-11T17:50:20.801019Z",
     "shell.execute_reply.started": "2025-02-11T17:49:35.578043Z"
    },
    "trusted": true
   },
   "outputs": [],
   "source": [
    "trainer.evaluate()"
   ]
  },
  {
   "cell_type": "code",
   "execution_count": null,
   "metadata": {
    "execution": {
     "iopub.execute_input": "2025-02-11T17:50:20.803373Z",
     "iopub.status.busy": "2025-02-11T17:50:20.803057Z",
     "iopub.status.idle": "2025-02-11T17:50:22.053970Z",
     "shell.execute_reply": "2025-02-11T17:50:22.053070Z",
     "shell.execute_reply.started": "2025-02-11T17:50:20.803342Z"
    },
    "trusted": true
   },
   "outputs": [],
   "source": [
    "model.save_pretrained('./trained_model')\n",
    "tokenizer.save_pretrained('./trained_model')"
   ]
  },
  {
   "cell_type": "code",
   "execution_count": null,
   "metadata": {
    "execution": {
     "iopub.execute_input": "2025-02-11T17:50:22.055932Z",
     "iopub.status.busy": "2025-02-11T17:50:22.055629Z",
     "iopub.status.idle": "2025-02-11T17:51:18.747172Z",
     "shell.execute_reply": "2025-02-11T17:51:18.746226Z",
     "shell.execute_reply.started": "2025-02-11T17:50:22.055905Z"
    },
    "trusted": true
   },
   "outputs": [],
   "source": [
    "true_labels = []\n",
    "pred_labels = []\n",
    "\n",
    "model.eval()\n",
    "\n",
    "validation_dataloader = DataLoader(test_dataset, batch_size=16, shuffle=False)\n",
    "\n",
    "with torch.no_grad():\n",
    "    for i in validation_dataloader:\n",
    "        \n",
    "        inputs = {key: val.to(device) for key, val in i.items()}\n",
    "\n",
    "        labels = inputs.pop('labels').to('cpu').numpy()\n",
    "\n",
    "        outputs = model(**inputs)\n",
    "\n",
    "        preds = torch.argmax(outputs.logits, dim=1).to('cpu').numpy()\n",
    "\n",
    "        true_labels.extend(labels)\n",
    "        pred_labels.extend(preds)\n",
    "\n",
    "cm = confusion_matrix(true_labels, pred_labels)\n",
    "print(classification_report(true_labels, pred_labels))\n",
    "bert_accuracy = accuracy_score(true_labels, pred_labels)\n",
    "print(bert_accuracy)\n",
    "plt.figure(figsize=(8, 6))\n",
    "sns.heatmap(cm, annot=True, fmt='d', cmap='crest', cbar=True) \n",
    "plt.xlabel('Rótulos previstos')\n",
    "plt.ylabel('Rótulos verdadeiros')\n",
    "plt.title('Matriz de confusão')\n",
    "plt.xticks([0.5, 1.5], ['Falso', 'Verdadeiro']) \n",
    "plt.yticks([0.5, 1.5], ['Falso', 'Verdadeiro'])\n",
    "plt.savefig('matriz-conf.png')\n",
    "plt.show()"
   ]
  },
  {
   "cell_type": "code",
   "execution_count": null,
   "metadata": {
    "execution": {
     "iopub.status.busy": "2025-02-11T17:15:22.475781Z",
     "iopub.status.idle": "2025-02-11T17:15:22.476084Z",
     "shell.execute_reply": "2025-02-11T17:15:22.475954Z",
     "shell.execute_reply.started": "2025-02-11T17:15:22.475940Z"
    },
    "trusted": true
   },
   "outputs": [],
   "source": [
    "def predict(text):\n",
    "    \n",
    "    inputs = tokenizer(text, return_tensors='pt')\n",
    "    inputs = {key: val.to(device) for key, val in inputs.items()}\n",
    "    \n",
    "    with torch.no_grad():\n",
    "        outputs = model(**inputs)\n",
    "        \n",
    "    prediction = torch.argmax(outputs.logits, dim=1).item()\n",
    "    return (\"Verdadeiro\" if prediction == 1 else \"Falso\")"
   ]
  },
  {
   "cell_type": "code",
   "execution_count": null,
   "metadata": {
    "execution": {
     "iopub.status.busy": "2025-02-11T17:15:22.476964Z",
     "iopub.status.idle": "2025-02-11T17:15:22.477237Z",
     "shell.execute_reply": "2025-02-11T17:15:22.477120Z",
     "shell.execute_reply.started": "2025-02-11T17:15:22.477106Z"
    },
    "trusted": true
   },
   "outputs": [],
   "source": [
    "print(predict(\"O novo estudo afirma que a lua é feita de queijo.\"))"
   ]
  },
  {
   "cell_type": "code",
   "execution_count": null,
   "metadata": {
    "execution": {
     "iopub.status.busy": "2025-02-11T17:15:22.478667Z",
     "iopub.status.idle": "2025-02-11T17:15:22.479041Z",
     "shell.execute_reply": "2025-02-11T17:15:22.478882Z",
     "shell.execute_reply.started": "2025-02-11T17:15:22.478863Z"
    },
    "trusted": true
   },
   "outputs": [],
   "source": [
    "print(predict('A fumaça das queimadas que tem encoberto cidades do Norte, Centro-Oeste, Sudeste e Sul do país causa preocupação não só entre ambientalistas, mas também entre médicos e especialistas em saúde.'))"
   ]
  },
  {
   "cell_type": "code",
   "execution_count": null,
   "metadata": {
    "execution": {
     "iopub.status.busy": "2025-02-11T17:15:22.480396Z",
     "iopub.status.idle": "2025-02-11T17:15:22.480698Z",
     "shell.execute_reply": "2025-02-11T17:15:22.480566Z",
     "shell.execute_reply.started": "2025-02-11T17:15:22.480551Z"
    },
    "trusted": true
   },
   "outputs": [],
   "source": [
    "from transformers import BertForPreTraining\n",
    "modelo_base = BertForSequenceClassification.from_pretrained('neuralmind/bert-base-portuguese-cased')\n",
    "modelo_treinado = BertForSequenceClassification.from_pretrained('./trained_model')"
   ]
  },
  {
   "cell_type": "code",
   "execution_count": null,
   "metadata": {
    "execution": {
     "iopub.status.busy": "2025-02-11T17:15:22.482249Z",
     "iopub.status.idle": "2025-02-11T17:15:22.482535Z",
     "shell.execute_reply": "2025-02-11T17:15:22.482420Z",
     "shell.execute_reply.started": "2025-02-11T17:15:22.482406Z"
    },
    "trusted": true
   },
   "outputs": [],
   "source": [
    "trainer_base = Trainer(\n",
    "    model=modelo_base,\n",
    "    args=training_args,\n",
    "    compute_metrics=compute_metrics,\n",
    "    eval_dataset=test_dataset\n",
    ")\n",
    "result_base = trainer_base.evaluate()"
   ]
  },
  {
   "cell_type": "code",
   "execution_count": null,
   "metadata": {
    "execution": {
     "iopub.status.busy": "2025-02-11T17:15:22.483959Z",
     "iopub.status.idle": "2025-02-11T17:15:22.484233Z",
     "shell.execute_reply": "2025-02-11T17:15:22.484116Z",
     "shell.execute_reply.started": "2025-02-11T17:15:22.484103Z"
    },
    "trusted": true
   },
   "outputs": [],
   "source": [
    "trainer_treinado = Trainer(\n",
    "    model=modelo_treinado,\n",
    "    args=training_args,\n",
    "    compute_metrics=compute_metrics,\n",
    "    eval_dataset=test_dataset\n",
    ")\n",
    "result_treinado = trainer_treinado.evaluate()"
   ]
  },
  {
   "cell_type": "code",
   "execution_count": null,
   "metadata": {
    "execution": {
     "iopub.status.busy": "2025-02-11T17:15:22.484890Z",
     "iopub.status.idle": "2025-02-11T17:15:22.485184Z",
     "shell.execute_reply": "2025-02-11T17:15:22.485060Z",
     "shell.execute_reply.started": "2025-02-11T17:15:22.485045Z"
    },
    "trusted": true
   },
   "outputs": [],
   "source": [
    "print(\"Modelo Base:\", result_base)\n",
    "print(\"Modelo Treinado em Notícias Falsas:\", result_treinado)"
   ]
  },
  {
   "cell_type": "code",
   "execution_count": null,
   "metadata": {
    "execution": {
     "iopub.status.busy": "2025-02-11T17:15:22.486205Z",
     "iopub.status.idle": "2025-02-11T17:15:22.486547Z",
     "shell.execute_reply": "2025-02-11T17:15:22.486391Z",
     "shell.execute_reply.started": "2025-02-11T17:15:22.486375Z"
    },
    "trusted": true
   },
   "outputs": [],
   "source": [
    "result_base = {\n",
    "    'accuracy': result_base['eval_accuracy'],\n",
    "    'precision': result_base['eval_precision'],\n",
    "    'recall': result_base['eval_recall'],\n",
    "    'f1': result_base['eval_f1-score']\n",
    "}\n",
    "\n",
    "result_treinado = {\n",
    "    'Accuracy': result_treinado['eval_accuracy'],\n",
    "    'Precision': result_treinado['eval_precision'],\n",
    "    'Recall': result_treinado['eval_recall'],\n",
    "    'F1-score': result_treinado['eval_f1-score']\n",
    "}"
   ]
  },
  {
   "cell_type": "code",
   "execution_count": null,
   "metadata": {
    "execution": {
     "iopub.status.busy": "2025-02-11T17:15:22.487694Z",
     "iopub.status.idle": "2025-02-11T17:15:22.488023Z",
     "shell.execute_reply": "2025-02-11T17:15:22.487875Z",
     "shell.execute_reply.started": "2025-02-11T17:15:22.487859Z"
    },
    "trusted": true
   },
   "outputs": [],
   "source": [
    "metrics = metrics = [\"Acurácia\", \"Precisão\", \"Revocação\", \"F1-Score\"]\n",
    "values_base = list(result_base.values())\n",
    "values_treinado = list(result_treinado.values())\n",
    "\n",
    "x = np.arange(len(metrics))\n",
    "width = 0.35\n",
    "\n",
    "fig, ax = plt.subplots(figsize=(10,6))\n",
    "bar1 = ax.bar(x - width/2, values_base, width, label='Modelo Base', color='royalblue')\n",
    "bar2 = ax.bar(x + width/2, values_treinado, width, label='Modelo Treinado', color='seagreen')\n",
    "\n",
    "ax.set_xlabel('Métricas')\n",
    "ax.set_ylabel('Valores')\n",
    "ax.set_title('Comparação entre os Modelos')\n",
    "ax.set_xticks(x)\n",
    "ax.set_xticklabels(metrics)\n",
    "ax.legend(loc='upper left', bbox_to_anchor=(-0.1, 1))\n",
    "\n",
    "for bar in bar1:\n",
    "    yval = bar.get_height()\n",
    "    ax.text(bar.get_x() + bar.get_width() / 2, yval, f'{yval:.2f}%', ha='center', va='bottom')\n",
    "\n",
    "for bar in bar2:\n",
    "    yval = bar.get_height()\n",
    "    ax.text(bar.get_x() + bar.get_width() / 2, yval, f'{yval:.2f}%', ha='center', va='bottom')\n",
    "\n",
    "\n",
    "plt.tight_layout()\n",
    "plt.savefig('comp-modelos.png')\n",
    "plt.show()"
   ]
  },
  {
   "cell_type": "code",
   "execution_count": null,
   "metadata": {
    "trusted": true
   },
   "outputs": [],
   "source": []
  }
 ],
 "metadata": {
  "kaggle": {
   "accelerator": "nvidiaTeslaT4",
   "dataSources": [
    {
     "datasetId": 2472019,
     "sourceId": 4191482,
     "sourceType": "datasetVersion"
    },
    {
     "datasetId": 5651667,
     "sourceId": 9328299,
     "sourceType": "datasetVersion"
    }
   ],
   "dockerImageVersionId": 30761,
   "isGpuEnabled": true,
   "isInternetEnabled": true,
   "language": "python",
   "sourceType": "notebook"
  },
  "kernelspec": {
   "display_name": "base",
   "language": "python",
   "name": "python3"
  },
  "language_info": {
   "codemirror_mode": {
    "name": "ipython",
    "version": 3
   },
   "file_extension": ".py",
   "mimetype": "text/x-python",
   "name": "python",
   "nbconvert_exporter": "python",
   "pygments_lexer": "ipython3",
   "version": "3.12.3"
  }
 },
 "nbformat": 4,
 "nbformat_minor": 4
}
